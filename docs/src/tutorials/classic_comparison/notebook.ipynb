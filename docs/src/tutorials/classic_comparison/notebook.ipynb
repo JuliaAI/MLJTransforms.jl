{
 "cells": [
  {
   "cell_type": "markdown",
   "source": [
    "# Categorical Encoders Performance: A Classic Comparison\n",
    "\n",
    "This tutorial compares four fundamental categorical encoding approaches on a milk quality dataset:\n",
    "OneHot, Frequency, Target, and Ordinal encoders paired with SVM classification."
   ],
   "metadata": {}
  },
  {
   "outputs": [
    {
     "name": "stdout",
     "output_type": "stream",
     "text": [
      "  Activating project at `~/Documents/GitHub/MLJTransforms/docs/src/tutorials/classic_comparison`\n"
     ]
    }
   ],
   "cell_type": "code",
   "source": [
    "using Pkg;\n",
    "Pkg.activate(@__DIR__);\n",
    "\n",
    "using MLJ, MLJTransforms, LIBSVM, DataFrames, ScientificTypes\n",
    "using Random, CSV"
   ],
   "metadata": {},
   "execution_count": 1
  },
  {
   "cell_type": "markdown",
   "source": [
    "## Load and Prepare Data\n",
    "Load the milk quality dataset which contains categorical features for quality prediction:"
   ],
   "metadata": {}
  },
  {
   "outputs": [
    {
     "output_type": "execute_result",
     "data": {
      "text/plain": "\u001b[1m5×8 DataFrame\u001b[0m\n\u001b[1m Row \u001b[0m│\u001b[1m pH      \u001b[0m\u001b[1m Temprature \u001b[0m\u001b[1m Taste \u001b[0m\u001b[1m Odor  \u001b[0m\u001b[1m Fat   \u001b[0m\u001b[1m Turbidity \u001b[0m\u001b[1m Colour \u001b[0m\u001b[1m Grade   \u001b[0m\n     │\u001b[90m Float64 \u001b[0m\u001b[90m Int64      \u001b[0m\u001b[90m Int64 \u001b[0m\u001b[90m Int64 \u001b[0m\u001b[90m Int64 \u001b[0m\u001b[90m Int64     \u001b[0m\u001b[90m Int64  \u001b[0m\u001b[90m String7 \u001b[0m\n─────┼──────────────────────────────────────────────────────────────────────\n   1 │     6.6          35      1      0      1          0     254  high\n   2 │     6.6          36      0      1      0          1     253  high\n   3 │     8.5          70      1      1      1          1     246  low\n   4 │     9.5          34      1      1      0          1     255  low\n   5 │     6.6          37      0      0      0          0     255  medium",
      "text/html": [
       "<div><div style = \"float: left;\"><span>5×8 DataFrame</span></div><div style = \"clear: both;\"></div></div><div class = \"data-frame\" style = \"overflow-x: scroll;\"><table class = \"data-frame\" style = \"margin-bottom: 6px;\"><thead><tr class = \"header\"><th class = \"rowNumber\" style = \"font-weight: bold; text-align: right;\">Row</th><th style = \"text-align: left;\">pH</th><th style = \"text-align: left;\">Temprature</th><th style = \"text-align: left;\">Taste</th><th style = \"text-align: left;\">Odor</th><th style = \"text-align: left;\">Fat </th><th style = \"text-align: left;\">Turbidity</th><th style = \"text-align: left;\">Colour</th><th style = \"text-align: left;\">Grade</th></tr><tr class = \"subheader headerLastRow\"><th class = \"rowNumber\" style = \"font-weight: bold; text-align: right;\"></th><th title = \"Float64\" style = \"text-align: left;\">Float64</th><th title = \"Int64\" style = \"text-align: left;\">Int64</th><th title = \"Int64\" style = \"text-align: left;\">Int64</th><th title = \"Int64\" style = \"text-align: left;\">Int64</th><th title = \"Int64\" style = \"text-align: left;\">Int64</th><th title = \"Int64\" style = \"text-align: left;\">Int64</th><th title = \"Int64\" style = \"text-align: left;\">Int64</th><th title = \"String7\" style = \"text-align: left;\">String7</th></tr></thead><tbody><tr><td class = \"rowNumber\" style = \"font-weight: bold; text-align: right;\">1</td><td style = \"text-align: right;\">6.6</td><td style = \"text-align: right;\">35</td><td style = \"text-align: right;\">1</td><td style = \"text-align: right;\">0</td><td style = \"text-align: right;\">1</td><td style = \"text-align: right;\">0</td><td style = \"text-align: right;\">254</td><td style = \"text-align: left;\">high</td></tr><tr><td class = \"rowNumber\" style = \"font-weight: bold; text-align: right;\">2</td><td style = \"text-align: right;\">6.6</td><td style = \"text-align: right;\">36</td><td style = \"text-align: right;\">0</td><td style = \"text-align: right;\">1</td><td style = \"text-align: right;\">0</td><td style = \"text-align: right;\">1</td><td style = \"text-align: right;\">253</td><td style = \"text-align: left;\">high</td></tr><tr><td class = \"rowNumber\" style = \"font-weight: bold; text-align: right;\">3</td><td style = \"text-align: right;\">8.5</td><td style = \"text-align: right;\">70</td><td style = \"text-align: right;\">1</td><td style = \"text-align: right;\">1</td><td style = \"text-align: right;\">1</td><td style = \"text-align: right;\">1</td><td style = \"text-align: right;\">246</td><td style = \"text-align: left;\">low</td></tr><tr><td class = \"rowNumber\" style = \"font-weight: bold; text-align: right;\">4</td><td style = \"text-align: right;\">9.5</td><td style = \"text-align: right;\">34</td><td style = \"text-align: right;\">1</td><td style = \"text-align: right;\">1</td><td style = \"text-align: right;\">0</td><td style = \"text-align: right;\">1</td><td style = \"text-align: right;\">255</td><td style = \"text-align: left;\">low</td></tr><tr><td class = \"rowNumber\" style = \"font-weight: bold; text-align: right;\">5</td><td style = \"text-align: right;\">6.6</td><td style = \"text-align: right;\">37</td><td style = \"text-align: right;\">0</td><td style = \"text-align: right;\">0</td><td style = \"text-align: right;\">0</td><td style = \"text-align: right;\">0</td><td style = \"text-align: right;\">255</td><td style = \"text-align: left;\">medium</td></tr></tbody></table></div>"
      ]
     },
     "metadata": {},
     "execution_count": 2
    }
   ],
   "cell_type": "code",
   "source": [
    "df = CSV.read(\"./milknew.csv\", DataFrame)\n",
    "\n",
    "first(df, 5)"
   ],
   "metadata": {},
   "execution_count": 2
  },
  {
   "cell_type": "markdown",
   "source": [
    "Check the scientific types to understand our data structure:"
   ],
   "metadata": {}
  },
  {
   "outputs": [
    {
     "output_type": "execute_result",
     "data": {
      "text/plain": "┌────────────┬────────────┬─────────┐\n│\u001b[22m names      \u001b[0m│\u001b[22m scitypes   \u001b[0m│\u001b[22m types   \u001b[0m│\n├────────────┼────────────┼─────────┤\n│ pH         │ Continuous │ Float64 │\n│ Temprature │ Count      │ Int64   │\n│ Taste      │ Count      │ Int64   │\n│ Odor       │ Count      │ Int64   │\n│ Fat        │ Count      │ Int64   │\n│ Turbidity  │ Count      │ Int64   │\n│ Colour     │ Count      │ Int64   │\n│ Grade      │ Textual    │ String7 │\n└────────────┴────────────┴─────────┘\n"
     },
     "metadata": {},
     "execution_count": 3
    }
   ],
   "cell_type": "code",
   "source": [
    "ScientificTypes.schema(df)"
   ],
   "metadata": {},
   "execution_count": 3
  },
  {
   "cell_type": "markdown",
   "source": [
    "Automatically coerce columns with few unique values to categorical:"
   ],
   "metadata": {}
  },
  {
   "outputs": [
    {
     "output_type": "execute_result",
     "data": {
      "text/plain": "┌────────────┬───────────────────┬───────────────────────────────────┐\n│\u001b[22m names      \u001b[0m│\u001b[22m scitypes          \u001b[0m│\u001b[22m types                             \u001b[0m│\n├────────────┼───────────────────┼───────────────────────────────────┤\n│ pH         │ OrderedFactor{16} │ CategoricalValue{Float64, UInt32} │\n│ Temprature │ OrderedFactor{17} │ CategoricalValue{Int64, UInt32}   │\n│ Taste      │ OrderedFactor{2}  │ CategoricalValue{Int64, UInt32}   │\n│ Odor       │ OrderedFactor{2}  │ CategoricalValue{Int64, UInt32}   │\n│ Fat        │ OrderedFactor{2}  │ CategoricalValue{Int64, UInt32}   │\n│ Turbidity  │ OrderedFactor{2}  │ CategoricalValue{Int64, UInt32}   │\n│ Colour     │ OrderedFactor{9}  │ CategoricalValue{Int64, UInt32}   │\n│ Grade      │ Multiclass{3}     │ CategoricalValue{String7, UInt32} │\n└────────────┴───────────────────┴───────────────────────────────────┘\n"
     },
     "metadata": {},
     "execution_count": 4
    }
   ],
   "cell_type": "code",
   "source": [
    "df = coerce(df, autotype(df, :few_to_finite))\n",
    "\n",
    "ScientificTypes.schema(df)"
   ],
   "metadata": {},
   "execution_count": 4
  },
  {
   "cell_type": "markdown",
   "source": [
    "## Split Data\n",
    "Separate features from target and create train/test split:"
   ],
   "metadata": {}
  },
  {
   "outputs": [],
   "cell_type": "code",
   "source": [
    "y, X = unpack(df, ==(:Grade); rng = 123)\n",
    "train, test = partition(eachindex(y), 0.9, shuffle = true, rng = 100);"
   ],
   "metadata": {},
   "execution_count": 5
  },
  {
   "cell_type": "markdown",
   "source": [
    "## Setup Encoders and Classifier\n",
    "Load the required models and create different encoding strategies:"
   ],
   "metadata": {}
  },
  {
   "outputs": [
    {
     "output_type": "execute_result",
     "data": {
      "text/plain": "MLJLIBSVMInterface.SVC"
     },
     "metadata": {},
     "execution_count": 6
    }
   ],
   "cell_type": "code",
   "source": [
    "OneHot = @load OneHotEncoder pkg = MLJModels verbosity = 0\n",
    "SVC = @load SVC pkg = LIBSVM verbosity = 0"
   ],
   "metadata": {},
   "execution_count": 6
  },
  {
   "cell_type": "markdown",
   "source": [
    "**Encoding Strategies Explained:**\n",
    "1. **OneHot**: Creates binary columns for each category (sparse, interpretable)\n",
    "2. **Frequency**: Replaces categories with their occurrence frequency\n",
    "3. **Target**: Uses target statistics for each category\n",
    "4. **Ordinal**: Assigns integer codes to categories (assumes ordering)"
   ],
   "metadata": {}
  },
  {
   "outputs": [
    {
     "output_type": "execute_result",
     "data": {
      "text/plain": "SVC(\n  kernel = LIBSVM.Kernel.RadialBasis, \n  gamma = 0.0, \n  cost = 1.0, \n  cachesize = 200.0, \n  degree = 3, \n  coef0 = 0.0, \n  tolerance = 0.001, \n  shrinking = true)"
     },
     "metadata": {},
     "execution_count": 7
    }
   ],
   "cell_type": "code",
   "source": [
    "onehot_model = OneHot(drop_last = true, ordered_factor = true)\n",
    "freq_model = MLJTransforms.FrequencyEncoder(normalize = false, ordered_factor = true)\n",
    "target_model = MLJTransforms.TargetEncoder(lambda = 0.9, m = 5, ordered_factor = true)\n",
    "ordinal_model = MLJTransforms.OrdinalEncoder(ordered_factor = true)\n",
    "svm = SVC()"
   ],
   "metadata": {},
   "execution_count": 7
  },
  {
   "cell_type": "markdown",
   "source": [
    "Create four different pipelines to compare:"
   ],
   "metadata": {}
  },
  {
   "outputs": [
    {
     "output_type": "execute_result",
     "data": {
      "text/plain": "4-element Vector{Tuple{String, MLJBase.DeterministicPipeline{N, MLJModelInterface.predict} where N<:NamedTuple}}:\n (\"OneHot + SVM\", DeterministicPipeline(one_hot_encoder = OneHotEncoder(features = Symbol[], …), …))\n (\"FreqEnc + SVM\", DeterministicPipeline(frequency_encoder = FrequencyEncoder(features = Symbol[], …), …))\n (\"TargetEnc + SVM\", DeterministicPipeline(target_encoder = TargetEncoder(features = Symbol[], …), …))\n (\"Ordinal + SVM\", DeterministicPipeline(ordinal_encoder = OrdinalEncoder(features = Symbol[], …), …))"
     },
     "metadata": {},
     "execution_count": 8
    }
   ],
   "cell_type": "code",
   "source": [
    "pipelines = [\n",
    "    (\"OneHot + SVM\", onehot_model |> svm),\n",
    "    (\"FreqEnc + SVM\", freq_model |> svm),\n",
    "    (\"TargetEnc + SVM\", target_model |> svm),\n",
    "    (\"Ordinal + SVM\", ordinal_model |> svm),\n",
    "]"
   ],
   "metadata": {},
   "execution_count": 8
  },
  {
   "cell_type": "markdown",
   "source": [
    "## Evaluate Pipelines\n",
    "Use 10-fold cross-validation to robustly estimate each pipeline's accuracy:"
   ],
   "metadata": {}
  },
  {
   "outputs": [
    {
     "name": "stdout",
     "output_type": "stream",
     "text": [
      "Evaluating: OneHot + SVM\n",
      "Evaluating: FreqEnc + SVM\n",
      "Evaluating: TargetEnc + SVM\n",
      "Evaluating: Ordinal + SVM\n"
     ]
    }
   ],
   "cell_type": "code",
   "source": [
    "results = DataFrame(pipeline = String[], accuracy = Float64[])\n",
    "\n",
    "for (name, pipe) in pipelines\n",
    "    println(\"Evaluating: $name\")\n",
    "    mach = machine(pipe, X, y)\n",
    "    eval_results = evaluate!(\n",
    "        mach,\n",
    "        resampling = CV(nfolds = 10, rng = 123),\n",
    "        measure = accuracy,\n",
    "        rows = train,\n",
    "        verbosity = 0,\n",
    "    )\n",
    "    acc = mean(eval_results.measurement)\n",
    "    push!(results, (name, acc))\n",
    "end"
   ],
   "metadata": {},
   "execution_count": 9
  },
  {
   "cell_type": "markdown",
   "source": [
    "Sort results by accuracy (highest first) and display:"
   ],
   "metadata": {}
  },
  {
   "outputs": [
    {
     "output_type": "execute_result",
     "data": {
      "text/plain": "\u001b[1m4×2 DataFrame\u001b[0m\n\u001b[1m Row \u001b[0m│\u001b[1m pipeline        \u001b[0m\u001b[1m accuracy \u001b[0m\n     │\u001b[90m String          \u001b[0m\u001b[90m Float64  \u001b[0m\n─────┼───────────────────────────\n   1 │ OneHot + SVM     0.998951\n   2 │ TargetEnc + SVM  0.974816\n   3 │ Ordinal + SVM    0.940189\n   4 │ FreqEnc + SVM    0.885624",
      "text/html": [
       "<div><div style = \"float: left;\"><span>4×2 DataFrame</span></div><div style = \"clear: both;\"></div></div><div class = \"data-frame\" style = \"overflow-x: scroll;\"><table class = \"data-frame\" style = \"margin-bottom: 6px;\"><thead><tr class = \"header\"><th class = \"rowNumber\" style = \"font-weight: bold; text-align: right;\">Row</th><th style = \"text-align: left;\">pipeline</th><th style = \"text-align: left;\">accuracy</th></tr><tr class = \"subheader headerLastRow\"><th class = \"rowNumber\" style = \"font-weight: bold; text-align: right;\"></th><th title = \"String\" style = \"text-align: left;\">String</th><th title = \"Float64\" style = \"text-align: left;\">Float64</th></tr></thead><tbody><tr><td class = \"rowNumber\" style = \"font-weight: bold; text-align: right;\">1</td><td style = \"text-align: left;\">OneHot + SVM</td><td style = \"text-align: right;\">0.998951</td></tr><tr><td class = \"rowNumber\" style = \"font-weight: bold; text-align: right;\">2</td><td style = \"text-align: left;\">TargetEnc + SVM</td><td style = \"text-align: right;\">0.974816</td></tr><tr><td class = \"rowNumber\" style = \"font-weight: bold; text-align: right;\">3</td><td style = \"text-align: left;\">Ordinal + SVM</td><td style = \"text-align: right;\">0.940189</td></tr><tr><td class = \"rowNumber\" style = \"font-weight: bold; text-align: right;\">4</td><td style = \"text-align: left;\">FreqEnc + SVM</td><td style = \"text-align: right;\">0.885624</td></tr></tbody></table></div>"
      ]
     },
     "metadata": {},
     "execution_count": 10
    }
   ],
   "cell_type": "code",
   "source": [
    "sort!(results, :accuracy, rev = true)\n",
    "results"
   ],
   "metadata": {},
   "execution_count": 10
  },
  {
   "cell_type": "markdown",
   "source": [
    "## Results Analysis\n",
    "We notice that one-hot-encoding was the most performant here followed by target encoding.\n",
    "Ordinal encoding also produced decent results because we can perceive all the categorical variables to be ordered\n",
    "On the other hand, frequency encoding lagged behind. Observe that this method doesn't distinguish categories from one another if they occur with similar frequencies."
   ],
   "metadata": {}
  },
  {
   "cell_type": "markdown",
   "source": [
    "---\n",
    "\n",
    "*This notebook was generated using [Literate.jl](https://github.com/fredrikekre/Literate.jl).*"
   ],
   "metadata": {}
  }
 ],
 "nbformat_minor": 3,
 "metadata": {
  "language_info": {
   "file_extension": ".jl",
   "mimetype": "application/julia",
   "name": "julia",
   "version": "1.11.5"
  },
  "kernelspec": {
   "name": "julia-1.11",
   "display_name": "Julia 1.11.5",
   "language": "julia"
  }
 },
 "nbformat": 4
}
