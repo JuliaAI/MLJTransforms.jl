{
 "cells": [
  {
   "cell_type": "markdown",
   "source": [
    "# Categorical Encoders Performance: A Classic Comparison\n",
    "\n",
    "This tutorial compares four fundamental categorical encoding approaches on a milk quality dataset:\n",
    "OneHot, Frequency, Target, and Ordinal encoders paired with SVM classification."
   ],
   "metadata": {}
  },
  {
   "outputs": [],
   "cell_type": "code",
   "source": [
    "using Pkg;\n",
    "Pkg.activate(@__DIR__);\n",
    "\n",
    "using MLJ, MLJTransforms, LIBSVM, DataFrames, ScientificTypes\n",
    "using Random, CSV"
   ],
   "metadata": {},
   "execution_count": null
  },
  {
   "cell_type": "markdown",
   "source": [
    "## Load and Prepare Data\n",
    "Load the milk quality dataset which contains categorical features for quality prediction:"
   ],
   "metadata": {}
  },
  {
   "outputs": [],
   "cell_type": "code",
   "source": [
    "df = CSV.read(\"./milknew.csv\", DataFrame)\n",
    "\n",
    "first(df, 5)"
   ],
   "metadata": {},
   "execution_count": null
  },
  {
   "cell_type": "markdown",
   "source": [
    "Check the scientific types to understand our data structure:"
   ],
   "metadata": {}
  },
  {
   "outputs": [],
   "cell_type": "code",
   "source": [
    "ScientificTypes.schema(df)"
   ],
   "metadata": {},
   "execution_count": null
  },
  {
   "cell_type": "markdown",
   "source": [
    "Automatically coerce columns with few unique values to categorical:"
   ],
   "metadata": {}
  },
  {
   "outputs": [],
   "cell_type": "code",
   "source": [
    "df = coerce(df, autotype(df, :few_to_finite))\n",
    "\n",
    "ScientificTypes.schema(df)"
   ],
   "metadata": {},
   "execution_count": null
  },
  {
   "cell_type": "markdown",
   "source": [
    "## Split Data\n",
    "Separate features from target and create train/test split:"
   ],
   "metadata": {}
  },
  {
   "outputs": [],
   "cell_type": "code",
   "source": [
    "y, X = unpack(df, ==(:Grade); rng = 123)\n",
    "train, test = partition(eachindex(y), 0.9, shuffle = true, rng = 100);"
   ],
   "metadata": {},
   "execution_count": null
  },
  {
   "cell_type": "markdown",
   "source": [
    "## Setup Encoders and Classifier\n",
    "Load the required models and create different encoding strategies:"
   ],
   "metadata": {}
  },
  {
   "outputs": [],
   "cell_type": "code",
   "source": [
    "OneHot = @load OneHotEncoder pkg = MLJModels verbosity = 0\n",
    "SVC = @load SVC pkg = LIBSVM verbosity = 0"
   ],
   "metadata": {},
   "execution_count": null
  },
  {
   "cell_type": "markdown",
   "source": [
    "**Encoding Strategies Explained:**\n",
    "1. **OneHot**: Creates binary columns for each category (sparse, interpretable)\n",
    "2. **Frequency**: Replaces categories with their occurrence frequency\n",
    "3. **Target**: Uses target statistics for each category\n",
    "4. **Ordinal**: Assigns integer codes to categories (assumes ordering)"
   ],
   "metadata": {}
  },
  {
   "outputs": [],
   "cell_type": "code",
   "source": [
    "onehot_model = OneHot(drop_last = true, ordered_factor = true)\n",
    "freq_model = MLJTransforms.FrequencyEncoder(normalize = false, ordered_factor = true)\n",
    "target_model = MLJTransforms.TargetEncoder(lambda = 0.9, m = 5, ordered_factor = true)\n",
    "ordinal_model = MLJTransforms.OrdinalEncoder(ordered_factor = true)\n",
    "svm = SVC()"
   ],
   "metadata": {},
   "execution_count": null
  },
  {
   "cell_type": "markdown",
   "source": [
    "Create four different pipelines to compare:"
   ],
   "metadata": {}
  },
  {
   "outputs": [],
   "cell_type": "code",
   "source": [
    "pipelines = [\n",
    "    (\"OneHot + SVM\", onehot_model |> svm),\n",
    "    (\"FreqEnc + SVM\", freq_model |> svm),\n",
    "    (\"TargetEnc + SVM\", target_model |> svm),\n",
    "    (\"Ordinal + SVM\", ordinal_model |> svm),\n",
    "]"
   ],
   "metadata": {},
   "execution_count": null
  },
  {
   "cell_type": "markdown",
   "source": [
    "## Evaluate Pipelines\n",
    "Use 10-fold cross-validation to robustly estimate each pipeline's accuracy:"
   ],
   "metadata": {}
  },
  {
   "outputs": [],
   "cell_type": "code",
   "source": [
    "results = DataFrame(pipeline = String[], accuracy = Float64[])\n",
    "\n",
    "for (name, pipe) in pipelines\n",
    "    println(\"Evaluating: $name\")\n",
    "    mach = machine(pipe, X, y)\n",
    "    eval_results = evaluate!(\n",
    "        mach,\n",
    "        resampling = CV(nfolds = 10, rng = 123),\n",
    "        measure = accuracy,\n",
    "        rows = train,\n",
    "        verbosity = 0,\n",
    "    )\n",
    "    acc = mean(eval_results.measurement)\n",
    "    push!(results, (name, acc))\n",
    "end"
   ],
   "metadata": {},
   "execution_count": null
  },
  {
   "cell_type": "markdown",
   "source": [
    "Sort results by accuracy (highest first) and display:"
   ],
   "metadata": {}
  },
  {
   "outputs": [],
   "cell_type": "code",
   "source": [
    "sort!(results, :accuracy, rev = true)\n",
    "results"
   ],
   "metadata": {},
   "execution_count": null
  },
  {
   "cell_type": "markdown",
   "source": [
    "## Results Analysis\n",
    "We notice that one-hot-encoding was the most performant here followed by target encoding.\n",
    "Ordinal encoding also produced decent results because we can perceive all the categorical variables to be ordered\n",
    "On the other hand, frequency encoding lagged behind. Observe that this method doesn't distinguish categories from one another if they occur with similar frequencies."
   ],
   "metadata": {}
  },
  {
   "cell_type": "markdown",
   "source": [
    "---\n",
    "\n",
    "*This notebook was generated using [Literate.jl](https://github.com/fredrikekre/Literate.jl).*"
   ],
   "metadata": {}
  }
 ],
 "nbformat_minor": 3,
 "metadata": {
  "language_info": {
   "file_extension": ".jl",
   "mimetype": "application/julia",
   "name": "julia",
   "version": "1.11.5"
  },
  "kernelspec": {
   "name": "julia-1.11",
   "display_name": "Julia 1.11.5",
   "language": "julia"
  }
 },
 "nbformat": 4
}
