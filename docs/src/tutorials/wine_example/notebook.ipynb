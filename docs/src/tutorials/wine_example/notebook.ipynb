{
 "cells": [
  {
   "cell_type": "markdown",
   "source": [
    "# Wine Quality Prediction: Comparing Categorical Encoders\n",
    "\n",
    "This tutorial compares different categorical encoding approaches on wine quality prediction.\n",
    "We'll test OneHot, Frequency, and Cardinality Reduction encoders with CatBoost regression.\n",
    "\n",
    "**Why compare encoders?** Categorical variables with many levels (like wine varieties)\n",
    "can create high-dimensional sparse features. Different encoding strategies handle this\n",
    "challenge differently, affecting both model performance and training speed."
   ],
   "metadata": {}
  },
  {
   "cell_type": "markdown",
   "source": [
    "Note: we do not endorse drinking alcohol, this tutorial is purely for educational purposes."
   ],
   "metadata": {}
  },
  {
   "outputs": [
    {
     "name": "stdout",
     "output_type": "stream",
     "text": [
      "  Activating project at `~/Documents/GitHub/MLJTransforms/docs/src/tutorials/wine_example`\n"
     ]
    }
   ],
   "cell_type": "code",
   "source": [
    "using Pkg;\n",
    "Pkg.activate(@__DIR__);\n",
    "\n",
    "using MLJ, MLJTransforms, DataFrames, ScientificTypes\n",
    "using Random, CSV, StatsBase, Plots"
   ],
   "metadata": {},
   "execution_count": 1
  },
  {
   "cell_type": "markdown",
   "source": [
    "## Load and Prepare Data\n",
    "Load the wine dataset and take a sample for faster computation.\n",
    "The dataset contains wine reviews with categorical features like variety, winery, and region:"
   ],
   "metadata": {}
  },
  {
   "outputs": [
    {
     "output_type": "execute_result",
     "data": {
      "text/plain": "\u001b[1m5×8 DataFrame\u001b[0m\n\u001b[1m Row \u001b[0m│\u001b[1m country \u001b[0m\u001b[1m points \u001b[0m\u001b[1m price   \u001b[0m\u001b[1m province   \u001b[0m\u001b[1m region_1          \u001b[0m\u001b[1m region_2      \u001b[0m ⋯\n     │\u001b[90m String3 \u001b[0m\u001b[90m Int64  \u001b[0m\u001b[90m Float64 \u001b[0m\u001b[90m String15   \u001b[0m\u001b[90m String            \u001b[0m\u001b[90m String31      \u001b[0m ⋯\n─────┼──────────────────────────────────────────────────────────────────────────\n   1 │ US           87     14.0  Oregon      Willamette Valley  Willamette Val ⋯\n   2 │ US           87     65.0  Oregon      Willamette Valley  Willamette Val\n   3 │ US           87     19.0  California  Napa Valley        Napa\n   4 │ US           87     34.0  California  Alexander Valley   Sonoma\n   5 │ US           87     12.0  California  Central Coast      Central Coast  ⋯\n\u001b[36m                                                               3 columns omitted\u001b[0m",
      "text/html": [
       "<div><div style = \"float: left;\"><span>5×8 DataFrame</span></div><div style = \"clear: both;\"></div></div><div class = \"data-frame\" style = \"overflow-x: scroll;\"><table class = \"data-frame\" style = \"margin-bottom: 6px;\"><thead><tr class = \"header\"><th class = \"rowNumber\" style = \"font-weight: bold; text-align: right;\">Row</th><th style = \"text-align: left;\">country</th><th style = \"text-align: left;\">points</th><th style = \"text-align: left;\">price</th><th style = \"text-align: left;\">province</th><th style = \"text-align: left;\">region_1</th><th style = \"text-align: left;\">region_2</th><th style = \"text-align: left;\">variety</th><th style = \"text-align: left;\">winery</th></tr><tr class = \"subheader headerLastRow\"><th class = \"rowNumber\" style = \"font-weight: bold; text-align: right;\"></th><th title = \"InlineStrings.String3\" style = \"text-align: left;\">String3</th><th title = \"Int64\" style = \"text-align: left;\">Int64</th><th title = \"Float64\" style = \"text-align: left;\">Float64</th><th title = \"InlineStrings.String15\" style = \"text-align: left;\">String15</th><th title = \"String\" style = \"text-align: left;\">String</th><th title = \"InlineStrings.String31\" style = \"text-align: left;\">String31</th><th title = \"String\" style = \"text-align: left;\">String</th><th title = \"String\" style = \"text-align: left;\">String</th></tr></thead><tbody><tr><td class = \"rowNumber\" style = \"font-weight: bold; text-align: right;\">1</td><td style = \"text-align: left;\">US</td><td style = \"text-align: right;\">87</td><td style = \"text-align: right;\">14.0</td><td style = \"text-align: left;\">Oregon</td><td style = \"text-align: left;\">Willamette Valley</td><td style = \"text-align: left;\">Willamette Valley</td><td style = \"text-align: left;\">Pinot Gris</td><td style = \"text-align: left;\">Rainstorm</td></tr><tr><td class = \"rowNumber\" style = \"font-weight: bold; text-align: right;\">2</td><td style = \"text-align: left;\">US</td><td style = \"text-align: right;\">87</td><td style = \"text-align: right;\">65.0</td><td style = \"text-align: left;\">Oregon</td><td style = \"text-align: left;\">Willamette Valley</td><td style = \"text-align: left;\">Willamette Valley</td><td style = \"text-align: left;\">Pinot Noir</td><td style = \"text-align: left;\">Sweet Cheeks</td></tr><tr><td class = \"rowNumber\" style = \"font-weight: bold; text-align: right;\">3</td><td style = \"text-align: left;\">US</td><td style = \"text-align: right;\">87</td><td style = \"text-align: right;\">19.0</td><td style = \"text-align: left;\">California</td><td style = \"text-align: left;\">Napa Valley</td><td style = \"text-align: left;\">Napa</td><td style = \"text-align: left;\">Cabernet Sauvignon</td><td style = \"text-align: left;\">Kirkland Signature</td></tr><tr><td class = \"rowNumber\" style = \"font-weight: bold; text-align: right;\">4</td><td style = \"text-align: left;\">US</td><td style = \"text-align: right;\">87</td><td style = \"text-align: right;\">34.0</td><td style = \"text-align: left;\">California</td><td style = \"text-align: left;\">Alexander Valley</td><td style = \"text-align: left;\">Sonoma</td><td style = \"text-align: left;\">Cabernet Sauvignon</td><td style = \"text-align: left;\">Louis M. Martini</td></tr><tr><td class = \"rowNumber\" style = \"font-weight: bold; text-align: right;\">5</td><td style = \"text-align: left;\">US</td><td style = \"text-align: right;\">87</td><td style = \"text-align: right;\">12.0</td><td style = \"text-align: left;\">California</td><td style = \"text-align: left;\">Central Coast</td><td style = \"text-align: left;\">Central Coast</td><td style = \"text-align: left;\">Chardonnay</td><td style = \"text-align: left;\">Mirassou</td></tr></tbody></table></div>"
      ]
     },
     "metadata": {},
     "execution_count": 2
    }
   ],
   "cell_type": "code",
   "source": [
    "df = CSV.read(\"./clean_wine.csv\", DataFrame)\n",
    "\n",
    "first(df, 5)"
   ],
   "metadata": {},
   "execution_count": 2
  },
  {
   "cell_type": "markdown",
   "source": [
    "Sample 10,000 rows for faster computation (the full dataset is quite large):"
   ],
   "metadata": {}
  },
  {
   "outputs": [],
   "cell_type": "code",
   "source": [
    "df = df[sample(1:nrow(df), 10000, replace = false), :];"
   ],
   "metadata": {},
   "execution_count": 3
  },
  {
   "cell_type": "markdown",
   "source": [
    "Coerce categorical columns to appropriate scientific types. We use `autotype` to automatically detect\n",
    "categorical features by recognizing columns with few unique values:"
   ],
   "metadata": {}
  },
  {
   "outputs": [],
   "cell_type": "code",
   "source": [
    "df = coerce(df, autotype(df, :few_to_finite));\n",
    "df = coerce(df, :points => Continuous, :region_1 => Multiclass,\n",
    "    :variety => Multiclass, :winery => Multiclass);"
   ],
   "metadata": {},
   "execution_count": 4
  },
  {
   "cell_type": "markdown",
   "source": [
    "## Split Data\n",
    "Separate features (X) from target (y), then split into train/test sets:"
   ],
   "metadata": {}
  },
  {
   "outputs": [],
   "cell_type": "code",
   "source": [
    "y, X = unpack(df, ==(:points); rng = 123);\n",
    "train, test = partition(eachindex(y), 0.8, shuffle = true, rng = 100);"
   ],
   "metadata": {},
   "execution_count": 5
  },
  {
   "cell_type": "markdown",
   "source": [
    "## Setup Encoders and Model\n",
    "Load the required models and create different encoding strategies:"
   ],
   "metadata": {}
  },
  {
   "outputs": [
    {
     "name": "stdout",
     "output_type": "stream",
     "text": [
      "[ Info: For silent loading, specify `verbosity=0`. \n",
      "import CatBoost ✔\n"
     ]
    },
    {
     "output_type": "execute_result",
     "data": {
      "text/plain": "CatBoost.MLJCatBoostInterface.CatBoostRegressor"
     },
     "metadata": {},
     "execution_count": 6
    }
   ],
   "cell_type": "code",
   "source": [
    "OneHot = @load OneHotEncoder pkg = MLJModels verbosity = 0\n",
    "CatBoostRegressor = @load CatBoostRegressor pkg = CatBoost"
   ],
   "metadata": {},
   "execution_count": 6
  },
  {
   "cell_type": "markdown",
   "source": [
    "**Encoding Strategies:**\n",
    "1. **OneHotEncoder**: Creates binary columns for each category\n",
    "2. **FrequencyEncoder**: Replaces categories with their frequency counts\n",
    "In case of the one-hot-encoder, we worry when categories have high cardinality as that would lead to an explosion in the number of features."
   ],
   "metadata": {}
  },
  {
   "outputs": [],
   "cell_type": "code",
   "source": [
    "card_reducer = MLJTransforms.CardinalityReducer(min_frequency = 10, ordered_factor = true)\n",
    "onehot_model = OneHot(drop_last = true, ordered_factor = true)\n",
    "freq_model = MLJTransforms.FrequencyEncoder(normalize = false, ordered_factor = true)\n",
    "cat = CatBoostRegressor();"
   ],
   "metadata": {},
   "execution_count": 7
  },
  {
   "cell_type": "markdown",
   "source": [
    "Create three different pipelines to compare:"
   ],
   "metadata": {}
  },
  {
   "outputs": [
    {
     "output_type": "execute_result",
     "data": {
      "text/plain": "3-element Vector{Tuple{String, MLJBase.DeterministicPipeline{N, MLJModelInterface.predict} where N<:NamedTuple}}:\n (\"CardRed + OneHot + CAT\", DeterministicPipeline(cardinality_reducer = CardinalityReducer(features = Symbol[], …), …))\n (\"OneHot + CAT\", DeterministicPipeline(one_hot_encoder = OneHotEncoder(features = Symbol[], …), …))\n (\"FreqEnc + CAT\", DeterministicPipeline(frequency_encoder = FrequencyEncoder(features = Symbol[], …), …))"
     },
     "metadata": {},
     "execution_count": 8
    }
   ],
   "cell_type": "code",
   "source": [
    "pipelines = [\n",
    "    (\"CardRed + OneHot + CAT\", card_reducer |> onehot_model |> cat),\n",
    "    (\"OneHot + CAT\", onehot_model |> cat),\n",
    "    (\"FreqEnc + CAT\", freq_model |> cat),\n",
    "]"
   ],
   "metadata": {},
   "execution_count": 8
  },
  {
   "cell_type": "markdown",
   "source": [
    "## Evaluate Pipelines\n",
    "Train each pipeline and measure both performance (RMSE) and training time:"
   ],
   "metadata": {}
  },
  {
   "outputs": [
    {
     "name": "stdout",
     "output_type": "stream",
     "text": [
      "Training: CardRed + OneHot + CAT\n",
      "[ Info: Training machine(DeterministicPipeline(cardinality_reducer = CardinalityReducer(features = Symbol[], …), …), …).\n",
      "[ Info: Training machine(:cardinality_reducer, …).\n",
      "[ Info: Training machine(:one_hot_encoder, …).\n",
      "[ Info: Spawning 0 sub-features to one-hot encode feature :country.\n",
      "[ Info: Spawning 3 sub-features to one-hot encode feature :province.\n",
      "[ Info: Spawning 100 sub-features to one-hot encode feature :region_1.\n",
      "[ Info: Spawning 16 sub-features to one-hot encode feature :region_2.\n",
      "[ Info: Spawning 48 sub-features to one-hot encode feature :variety.\n",
      "[ Info: Spawning 401 sub-features to one-hot encode feature :winery.\n",
      "[ Info: Training machine(:cat_boost_regressor, …).\n",
      "Training: OneHot + CAT\n",
      "[ Info: Training machine(DeterministicPipeline(one_hot_encoder = OneHotEncoder(features = Symbol[], …), …), …).\n",
      "[ Info: Training machine(:one_hot_encoder, …).\n",
      "[ Info: Spawning 0 sub-features to one-hot encode feature :country.\n",
      "[ Info: Spawning 3 sub-features to one-hot encode feature :province.\n",
      "[ Info: Spawning 163 sub-features to one-hot encode feature :region_1.\n",
      "[ Info: Spawning 16 sub-features to one-hot encode feature :region_2.\n",
      "[ Info: Spawning 155 sub-features to one-hot encode feature :variety.\n",
      "[ Info: Spawning 3015 sub-features to one-hot encode feature :winery.\n",
      "[ Info: Training machine(:cat_boost_regressor, …).\n",
      "Training: FreqEnc + CAT\n",
      "[ Info: Training machine(DeterministicPipeline(frequency_encoder = FrequencyEncoder(features = Symbol[], …), …), …).\n",
      "[ Info: Training machine(:frequency_encoder, …).\n",
      "[ Info: Training machine(:cat_boost_regressor, …).\n"
     ]
    }
   ],
   "cell_type": "code",
   "source": [
    "results = DataFrame(pipeline = String[], rmse = Float64[], training_time = Float64[]);\n",
    "\n",
    "for (name, pipe) in pipelines\n",
    "    println(\"Training: $name\")\n",
    "    mach = machine(pipe, X, y)\n",
    "    training_time = @elapsed MLJ.fit!(mach, rows = train)\n",
    "    predictions = MLJ.predict(mach, rows = test)\n",
    "    rmse_value = MLJ.root_mean_squared_error(y[test], predictions)\n",
    "    push!(results, (name, rmse_value, training_time))\n",
    "end"
   ],
   "metadata": {},
   "execution_count": 9
  },
  {
   "cell_type": "markdown",
   "source": [
    "Sort by RMSE (lower is better) and display results:"
   ],
   "metadata": {}
  },
  {
   "outputs": [
    {
     "output_type": "execute_result",
     "data": {
      "text/plain": "\u001b[1m3×3 DataFrame\u001b[0m\n\u001b[1m Row \u001b[0m│\u001b[1m pipeline               \u001b[0m\u001b[1m rmse    \u001b[0m\u001b[1m training_time \u001b[0m\n     │\u001b[90m String                 \u001b[0m\u001b[90m Float64 \u001b[0m\u001b[90m Float64       \u001b[0m\n─────┼────────────────────────────────────────────────\n   1 │ OneHot + CAT            2.41128       140.636\n   2 │ CardRed + OneHot + CAT  2.41138       117.443\n   3 │ FreqEnc + CAT           2.41764        27.9614",
      "text/html": [
       "<div><div style = \"float: left;\"><span>3×3 DataFrame</span></div><div style = \"clear: both;\"></div></div><div class = \"data-frame\" style = \"overflow-x: scroll;\"><table class = \"data-frame\" style = \"margin-bottom: 6px;\"><thead><tr class = \"header\"><th class = \"rowNumber\" style = \"font-weight: bold; text-align: right;\">Row</th><th style = \"text-align: left;\">pipeline</th><th style = \"text-align: left;\">rmse</th><th style = \"text-align: left;\">training_time</th></tr><tr class = \"subheader headerLastRow\"><th class = \"rowNumber\" style = \"font-weight: bold; text-align: right;\"></th><th title = \"String\" style = \"text-align: left;\">String</th><th title = \"Float64\" style = \"text-align: left;\">Float64</th><th title = \"Float64\" style = \"text-align: left;\">Float64</th></tr></thead><tbody><tr><td class = \"rowNumber\" style = \"font-weight: bold; text-align: right;\">1</td><td style = \"text-align: left;\">OneHot + CAT</td><td style = \"text-align: right;\">2.41128</td><td style = \"text-align: right;\">140.636</td></tr><tr><td class = \"rowNumber\" style = \"font-weight: bold; text-align: right;\">2</td><td style = \"text-align: left;\">CardRed + OneHot + CAT</td><td style = \"text-align: right;\">2.41138</td><td style = \"text-align: right;\">117.443</td></tr><tr><td class = \"rowNumber\" style = \"font-weight: bold; text-align: right;\">3</td><td style = \"text-align: left;\">FreqEnc + CAT</td><td style = \"text-align: right;\">2.41764</td><td style = \"text-align: right;\">27.9614</td></tr></tbody></table></div>"
      ]
     },
     "metadata": {},
     "execution_count": 10
    }
   ],
   "cell_type": "code",
   "source": [
    "sort!(results, :rmse)\n",
    "results"
   ],
   "metadata": {},
   "execution_count": 10
  },
  {
   "cell_type": "markdown",
   "source": [
    "## Visualization\n",
    "Create side-by-side bar charts to compare both training time and model performance:"
   ],
   "metadata": {}
  },
  {
   "outputs": [],
   "cell_type": "code",
   "source": [
    "n = nrow(results)\n",
    "\n",
    "time_plot = bar(1:n, results.training_time;\n",
    "    xticks = (1:n, results.pipeline), title = \"Training Time (seconds)\",\n",
    "    xlabel = \"Pipeline\", ylabel = \"Time (s)\", xrotation = 45,\n",
    "    legend = false, color = :lightblue);\n",
    "\n",
    "rmse_plot = bar(1:n, results.rmse;\n",
    "    xticks = (1:n, results.pipeline), title = \"Root Mean Squared Error\",\n",
    "    xlabel = \"Pipeline\", ylabel = \"RMSE\", xrotation = 45,\n",
    "    legend = false, color = :lightcoral);\n",
    "\n",
    "combined_plot = plot(time_plot, rmse_plot; layout = (1, 2), size = (1200, 500));"
   ],
   "metadata": {},
   "execution_count": 11
  },
  {
   "cell_type": "markdown",
   "source": [
    "Save the plot"
   ],
   "metadata": {}
  },
  {
   "outputs": [],
   "cell_type": "code",
   "source": [
    "savefig(combined_plot, \"wine_encoding_comparison.png\"); #hide"
   ],
   "metadata": {},
   "execution_count": 12
  },
  {
   "cell_type": "markdown",
   "source": [
    "## Conclusion\n",
    "\n",
    "**Key Findings:**\n",
    "- The model performance did not vary significantly across encoding strategies.\n",
    "- We observe a decent speed up in using the cardinality reducer before one-hot encoding with close to no impact on performance.\n",
    "- That said, frequency encoder led to the least training time as it didn't add any new features"
   ],
   "metadata": {}
  },
  {
   "cell_type": "markdown",
   "source": [
    "---\n",
    "\n",
    "*This notebook was generated using [Literate.jl](https://github.com/fredrikekre/Literate.jl).*"
   ],
   "metadata": {}
  }
 ],
 "nbformat_minor": 3,
 "metadata": {
  "language_info": {
   "file_extension": ".jl",
   "mimetype": "application/julia",
   "name": "julia",
   "version": "1.11.5"
  },
  "kernelspec": {
   "name": "julia-1.11",
   "display_name": "Julia 1.11.5",
   "language": "julia"
  }
 },
 "nbformat": 4
}
