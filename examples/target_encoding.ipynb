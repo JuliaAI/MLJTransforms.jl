{
 "cells": [
  {
   "cell_type": "code",
   "execution_count": 1,
   "metadata": {},
   "outputs": [
    {
     "name": "stderr",
     "output_type": "stream",
     "text": [
      "\u001b[32m\u001b[1m  Activating\u001b[22m\u001b[39m project at `~/Documents/GitHub/MLJTransforms/examples`\n"
     ]
    }
   ],
   "source": [
    "using Pkg\n",
    "Pkg.activate(@__DIR__)\n",
    "Pkg.instantiate()\n",
    "\n",
    "using DataFrames\n",
    "using MLJTransforms     # dev ..\n",
    "using Plots\n",
    "using CSV\n",
    "using HTTP\n",
    "using MLJ\n",
    "using ScientificTypes\n",
    "using Random"
   ]
  },
  {
   "cell_type": "code",
   "execution_count": 2,
   "metadata": {},
   "outputs": [
    {
     "name": "stderr",
     "output_type": "stream",
     "text": [
      "┌ Warning: Reading one byte at a time from HTTP.Stream is inefficient.\n",
      "│ Use: io = BufferedInputStream(http::HTTP.Stream) instead.\n",
      "│ See: https://github.com/BioJulia/BufferedStreams.jl\n",
      "└ @ HTTP.Streams /Users/essam/.julia/packages/HTTP/sJD5V/src/Streams.jl:240\n",
      "┌ Info: Downloading\n",
      "│   source = https://raw.githubusercontent.com/JuliaAI/Imbalance.jl/dev/docs/src/examples/smoten_mushroom/mushrooms.csv\n",
      "│   dest = ./mushrooms.csv\n",
      "│   progress = NaN\n",
      "│   time_taken = 0.31 s\n",
      "│   time_remaining = NaN s\n",
      "│   average_speed = 1.147 MiB/s\n",
      "│   downloaded = 365.237 KiB\n",
      "│   remaining = ∞ B\n",
      "│   total = ∞ B\n",
      "└ @ HTTP /Users/essam/.julia/packages/HTTP/sJD5V/src/download.jl:132\n"
     ]
    },
    {
     "data": {
      "text/html": [
       "<div><div style = \"float: left;\"><span>5×23 DataFrame</span></div><div style = \"clear: both;\"></div></div><div class = \"data-frame\" style = \"overflow-x: scroll;\"><table class = \"data-frame\" style = \"margin-bottom: 6px;\"><thead><tr class = \"header\"><th class = \"rowNumber\" style = \"font-weight: bold; text-align: right;\">Row</th><th style = \"text-align: left;\">class</th><th style = \"text-align: left;\">cap-shape</th><th style = \"text-align: left;\">cap-surface</th><th style = \"text-align: left;\">cap-color</th><th style = \"text-align: left;\">bruises</th><th style = \"text-align: left;\">odor</th><th style = \"text-align: left;\">gill-attachment</th><th style = \"text-align: left;\">gill-spacing</th><th style = \"text-align: left;\">gill-size</th><th style = \"text-align: left;\">gill-color</th><th style = \"text-align: left;\">stalk-shape</th><th style = \"text-align: left;\">stalk-root</th><th style = \"text-align: left;\">stalk-surface-above-ring</th><th style = \"text-align: left;\">stalk-surface-below-ring</th><th style = \"text-align: left;\">stalk-color-above-ring</th><th style = \"text-align: left;\">stalk-color-below-ring</th><th style = \"text-align: left;\">veil-type</th><th style = \"text-align: left;\">veil-color</th><th style = \"text-align: left;\">ring-number</th><th style = \"text-align: left;\">ring-type</th><th style = \"text-align: left;\">spore-print-color</th><th style = \"text-align: left;\">population</th><th style = \"text-align: left;\">habitat</th></tr><tr class = \"subheader headerLastRow\"><th class = \"rowNumber\" style = \"font-weight: bold; text-align: right;\"></th><th title = \"String1\" style = \"text-align: left;\">String1</th><th title = \"String1\" style = \"text-align: left;\">String1</th><th title = \"String1\" style = \"text-align: left;\">String1</th><th title = \"String1\" style = \"text-align: left;\">String1</th><th title = \"String1\" style = \"text-align: left;\">String1</th><th title = \"String1\" style = \"text-align: left;\">String1</th><th title = \"String1\" style = \"text-align: left;\">String1</th><th title = \"String1\" style = \"text-align: left;\">String1</th><th title = \"String1\" style = \"text-align: left;\">String1</th><th title = \"String1\" style = \"text-align: left;\">String1</th><th title = \"String1\" style = \"text-align: left;\">String1</th><th title = \"String1\" style = \"text-align: left;\">String1</th><th title = \"String1\" style = \"text-align: left;\">String1</th><th title = \"String1\" style = \"text-align: left;\">String1</th><th title = \"String1\" style = \"text-align: left;\">String1</th><th title = \"String1\" style = \"text-align: left;\">String1</th><th title = \"String1\" style = \"text-align: left;\">String1</th><th title = \"String1\" style = \"text-align: left;\">String1</th><th title = \"String1\" style = \"text-align: left;\">String1</th><th title = \"String1\" style = \"text-align: left;\">String1</th><th title = \"String1\" style = \"text-align: left;\">String1</th><th title = \"String1\" style = \"text-align: left;\">String1</th><th title = \"String1\" style = \"text-align: left;\">String1</th></tr></thead><tbody><tr><td class = \"rowNumber\" style = \"font-weight: bold; text-align: right;\">1</td><td style = \"text-align: left;\">p</td><td style = \"text-align: left;\">x</td><td style = \"text-align: left;\">s</td><td style = \"text-align: left;\">n</td><td style = \"text-align: left;\">t</td><td style = \"text-align: left;\">p</td><td style = \"text-align: left;\">f</td><td style = \"text-align: left;\">c</td><td style = \"text-align: left;\">n</td><td style = \"text-align: left;\">k</td><td style = \"text-align: left;\">e</td><td style = \"text-align: left;\">e</td><td style = \"text-align: left;\">s</td><td style = \"text-align: left;\">s</td><td style = \"text-align: left;\">w</td><td style = \"text-align: left;\">w</td><td style = \"text-align: left;\">p</td><td style = \"text-align: left;\">w</td><td style = \"text-align: left;\">o</td><td style = \"text-align: left;\">p</td><td style = \"text-align: left;\">k</td><td style = \"text-align: left;\">s</td><td style = \"text-align: left;\">u</td></tr><tr><td class = \"rowNumber\" style = \"font-weight: bold; text-align: right;\">2</td><td style = \"text-align: left;\">e</td><td style = \"text-align: left;\">x</td><td style = \"text-align: left;\">s</td><td style = \"text-align: left;\">y</td><td style = \"text-align: left;\">t</td><td style = \"text-align: left;\">a</td><td style = \"text-align: left;\">f</td><td style = \"text-align: left;\">c</td><td style = \"text-align: left;\">b</td><td style = \"text-align: left;\">k</td><td style = \"text-align: left;\">e</td><td style = \"text-align: left;\">c</td><td style = \"text-align: left;\">s</td><td style = \"text-align: left;\">s</td><td style = \"text-align: left;\">w</td><td style = \"text-align: left;\">w</td><td style = \"text-align: left;\">p</td><td style = \"text-align: left;\">w</td><td style = \"text-align: left;\">o</td><td style = \"text-align: left;\">p</td><td style = \"text-align: left;\">n</td><td style = \"text-align: left;\">n</td><td style = \"text-align: left;\">g</td></tr><tr><td class = \"rowNumber\" style = \"font-weight: bold; text-align: right;\">3</td><td style = \"text-align: left;\">e</td><td style = \"text-align: left;\">b</td><td style = \"text-align: left;\">s</td><td style = \"text-align: left;\">w</td><td style = \"text-align: left;\">t</td><td style = \"text-align: left;\">l</td><td style = \"text-align: left;\">f</td><td style = \"text-align: left;\">c</td><td style = \"text-align: left;\">b</td><td style = \"text-align: left;\">n</td><td style = \"text-align: left;\">e</td><td style = \"text-align: left;\">c</td><td style = \"text-align: left;\">s</td><td style = \"text-align: left;\">s</td><td style = \"text-align: left;\">w</td><td style = \"text-align: left;\">w</td><td style = \"text-align: left;\">p</td><td style = \"text-align: left;\">w</td><td style = \"text-align: left;\">o</td><td style = \"text-align: left;\">p</td><td style = \"text-align: left;\">n</td><td style = \"text-align: left;\">n</td><td style = \"text-align: left;\">m</td></tr><tr><td class = \"rowNumber\" style = \"font-weight: bold; text-align: right;\">4</td><td style = \"text-align: left;\">p</td><td style = \"text-align: left;\">x</td><td style = \"text-align: left;\">y</td><td style = \"text-align: left;\">w</td><td style = \"text-align: left;\">t</td><td style = \"text-align: left;\">p</td><td style = \"text-align: left;\">f</td><td style = \"text-align: left;\">c</td><td style = \"text-align: left;\">n</td><td style = \"text-align: left;\">n</td><td style = \"text-align: left;\">e</td><td style = \"text-align: left;\">e</td><td style = \"text-align: left;\">s</td><td style = \"text-align: left;\">s</td><td style = \"text-align: left;\">w</td><td style = \"text-align: left;\">w</td><td style = \"text-align: left;\">p</td><td style = \"text-align: left;\">w</td><td style = \"text-align: left;\">o</td><td style = \"text-align: left;\">p</td><td style = \"text-align: left;\">k</td><td style = \"text-align: left;\">s</td><td style = \"text-align: left;\">u</td></tr><tr><td class = \"rowNumber\" style = \"font-weight: bold; text-align: right;\">5</td><td style = \"text-align: left;\">e</td><td style = \"text-align: left;\">x</td><td style = \"text-align: left;\">s</td><td style = \"text-align: left;\">g</td><td style = \"text-align: left;\">f</td><td style = \"text-align: left;\">n</td><td style = \"text-align: left;\">f</td><td style = \"text-align: left;\">w</td><td style = \"text-align: left;\">b</td><td style = \"text-align: left;\">k</td><td style = \"text-align: left;\">t</td><td style = \"text-align: left;\">e</td><td style = \"text-align: left;\">s</td><td style = \"text-align: left;\">s</td><td style = \"text-align: left;\">w</td><td style = \"text-align: left;\">w</td><td style = \"text-align: left;\">p</td><td style = \"text-align: left;\">w</td><td style = \"text-align: left;\">o</td><td style = \"text-align: left;\">e</td><td style = \"text-align: left;\">n</td><td style = \"text-align: left;\">a</td><td style = \"text-align: left;\">g</td></tr></tbody></table></div>"
      ],
      "text/latex": [
       "\\begin{tabular}{r|ccccccccc}\n",
       "\t& class & cap-shape & cap-surface & cap-color & bruises & odor & gill-attachment & gill-spacing & \\\\\n",
       "\t\\hline\n",
       "\t& String1 & String1 & String1 & String1 & String1 & String1 & String1 & String1 & \\\\\n",
       "\t\\hline\n",
       "\t1 & p & x & s & n & t & p & f & c & $\\dots$ \\\\\n",
       "\t2 & e & x & s & y & t & a & f & c & $\\dots$ \\\\\n",
       "\t3 & e & b & s & w & t & l & f & c & $\\dots$ \\\\\n",
       "\t4 & p & x & y & w & t & p & f & c & $\\dots$ \\\\\n",
       "\t5 & e & x & s & g & f & n & f & w & $\\dots$ \\\\\n",
       "\\end{tabular}\n"
      ],
      "text/plain": [
       "\u001b[1m5×23 DataFrame\u001b[0m\n",
       "\u001b[1m Row \u001b[0m│\u001b[1m class   \u001b[0m\u001b[1m cap-shape \u001b[0m\u001b[1m cap-surface \u001b[0m\u001b[1m cap-color \u001b[0m\u001b[1m bruises \u001b[0m\u001b[1m odor    \u001b[0m\u001b[1m gill-atta\u001b[0m ⋯\n",
       "     │\u001b[90m String1 \u001b[0m\u001b[90m String1   \u001b[0m\u001b[90m String1     \u001b[0m\u001b[90m String1   \u001b[0m\u001b[90m String1 \u001b[0m\u001b[90m String1 \u001b[0m\u001b[90m String1  \u001b[0m ⋯\n",
       "─────┼──────────────────────────────────────────────────────────────────────────\n",
       "   1 │ p        x          s            n          t        p        f         ⋯\n",
       "   2 │ e        x          s            y          t        a        f\n",
       "   3 │ e        b          s            w          t        l        f\n",
       "   4 │ p        x          y            w          t        p        f\n",
       "   5 │ e        x          s            g          f        n        f         ⋯\n",
       "\u001b[36m                                                              17 columns omitted\u001b[0m"
      ]
     },
     "metadata": {},
     "output_type": "display_data"
    }
   ],
   "source": [
    "HTTP.download(\"https://raw.githubusercontent.com/JuliaAI/Imbalance.jl/dev/docs/src/examples/smoten_mushroom/mushrooms.csv\", \".\")\n",
    "df = CSV.read(\"./mushrooms.csv\", DataFrame)\n",
    "\n",
    "# Display the first 5 rows with DataFrames\n",
    "first(df, 5)"
   ]
  },
  {
   "cell_type": "code",
   "execution_count": 3,
   "metadata": {},
   "outputs": [
    {
     "data": {
      "text/plain": [
       "┌──────────────────────────┬────────────────┬───────────────────────────────────\n",
       "│\u001b[22m names                    \u001b[0m│\u001b[22m scitypes       \u001b[0m│\u001b[22m types                           \u001b[0m ⋯\n",
       "├──────────────────────────┼────────────────┼───────────────────────────────────\n",
       "│ class                    │ Multiclass{2}  │ CategoricalValue{String1, UInt32 ⋯\n",
       "│ cap-shape                │ Multiclass{6}  │ CategoricalValue{String1, UInt32 ⋯\n",
       "│ cap-surface              │ Multiclass{4}  │ CategoricalValue{String1, UInt32 ⋯\n",
       "│ cap-color                │ Multiclass{10} │ CategoricalValue{String1, UInt32 ⋯\n",
       "│ bruises                  │ Multiclass{2}  │ CategoricalValue{String1, UInt32 ⋯\n",
       "│ odor                     │ Multiclass{9}  │ CategoricalValue{String1, UInt32 ⋯\n",
       "│ gill-attachment          │ Multiclass{2}  │ CategoricalValue{String1, UInt32 ⋯\n",
       "│ gill-spacing             │ Multiclass{2}  │ CategoricalValue{String1, UInt32 ⋯\n",
       "│ gill-size                │ Multiclass{2}  │ CategoricalValue{String1, UInt32 ⋯\n",
       "│ gill-color               │ Multiclass{12} │ CategoricalValue{String1, UInt32 ⋯\n",
       "│ stalk-shape              │ Multiclass{2}  │ CategoricalValue{String1, UInt32 ⋯\n",
       "│ stalk-root               │ Multiclass{5}  │ CategoricalValue{String1, UInt32 ⋯\n",
       "│ stalk-surface-above-ring │ Multiclass{4}  │ CategoricalValue{String1, UInt32 ⋯\n",
       "│ stalk-surface-below-ring │ Multiclass{4}  │ CategoricalValue{String1, UInt32 ⋯\n",
       "│ stalk-color-above-ring   │ Multiclass{9}  │ CategoricalValue{String1, UInt32 ⋯\n",
       "│ stalk-color-below-ring   │ Multiclass{9}  │ CategoricalValue{String1, UInt32 ⋯\n",
       "│            ⋮             │       ⋮        │                 ⋮                ⋱\n",
       "└──────────────────────────┴────────────────┴───────────────────────────────────\n",
       "\u001b[36m                                                     1 column and 7 rows omitted\u001b[0m\n"
      ]
     },
     "metadata": {},
     "output_type": "display_data"
    }
   ],
   "source": [
    "df = coerce(df, autotype(df, :few_to_finite))\n",
    "ScientificTypes.schema(df)"
   ]
  },
  {
   "cell_type": "code",
   "execution_count": 4,
   "metadata": {},
   "outputs": [
    {
     "data": {
      "text/html": [
       "<div><div style = \"float: left;\"><span>5×22 DataFrame</span></div><div style = \"clear: both;\"></div></div><div class = \"data-frame\" style = \"overflow-x: scroll;\"><table class = \"data-frame\" style = \"margin-bottom: 6px;\"><thead><tr class = \"header\"><th class = \"rowNumber\" style = \"font-weight: bold; text-align: right;\">Row</th><th style = \"text-align: left;\">cap-shape</th><th style = \"text-align: left;\">cap-surface</th><th style = \"text-align: left;\">cap-color</th><th style = \"text-align: left;\">bruises</th><th style = \"text-align: left;\">odor</th><th style = \"text-align: left;\">gill-attachment</th><th style = \"text-align: left;\">gill-spacing</th><th style = \"text-align: left;\">gill-size</th><th style = \"text-align: left;\">gill-color</th><th style = \"text-align: left;\">stalk-shape</th><th style = \"text-align: left;\">stalk-root</th><th style = \"text-align: left;\">stalk-surface-above-ring</th><th style = \"text-align: left;\">stalk-surface-below-ring</th><th style = \"text-align: left;\">stalk-color-above-ring</th><th style = \"text-align: left;\">stalk-color-below-ring</th><th style = \"text-align: left;\">veil-type</th><th style = \"text-align: left;\">veil-color</th><th style = \"text-align: left;\">ring-number</th><th style = \"text-align: left;\">ring-type</th><th style = \"text-align: left;\">spore-print-color</th><th style = \"text-align: left;\">population</th><th style = \"text-align: left;\">habitat</th></tr><tr class = \"subheader headerLastRow\"><th class = \"rowNumber\" style = \"font-weight: bold; text-align: right;\"></th><th title = \"CategoricalArrays.CategoricalValue{String1, UInt32}\" style = \"text-align: left;\">Cat…</th><th title = \"CategoricalArrays.CategoricalValue{String1, UInt32}\" style = \"text-align: left;\">Cat…</th><th title = \"CategoricalArrays.CategoricalValue{String1, UInt32}\" style = \"text-align: left;\">Cat…</th><th title = \"CategoricalArrays.CategoricalValue{String1, UInt32}\" style = \"text-align: left;\">Cat…</th><th title = \"CategoricalArrays.CategoricalValue{String1, UInt32}\" style = \"text-align: left;\">Cat…</th><th title = \"CategoricalArrays.CategoricalValue{String1, UInt32}\" style = \"text-align: left;\">Cat…</th><th title = \"CategoricalArrays.CategoricalValue{String1, UInt32}\" style = \"text-align: left;\">Cat…</th><th title = \"CategoricalArrays.CategoricalValue{String1, UInt32}\" style = \"text-align: left;\">Cat…</th><th title = \"CategoricalArrays.CategoricalValue{String1, UInt32}\" style = \"text-align: left;\">Cat…</th><th title = \"CategoricalArrays.CategoricalValue{String1, UInt32}\" style = \"text-align: left;\">Cat…</th><th title = \"CategoricalArrays.CategoricalValue{String1, UInt32}\" style = \"text-align: left;\">Cat…</th><th title = \"CategoricalArrays.CategoricalValue{String1, UInt32}\" style = \"text-align: left;\">Cat…</th><th title = \"CategoricalArrays.CategoricalValue{String1, UInt32}\" style = \"text-align: left;\">Cat…</th><th title = \"CategoricalArrays.CategoricalValue{String1, UInt32}\" style = \"text-align: left;\">Cat…</th><th title = \"CategoricalArrays.CategoricalValue{String1, UInt32}\" style = \"text-align: left;\">Cat…</th><th title = \"CategoricalArrays.CategoricalValue{String1, UInt32}\" style = \"text-align: left;\">Cat…</th><th title = \"CategoricalArrays.CategoricalValue{String1, UInt32}\" style = \"text-align: left;\">Cat…</th><th title = \"CategoricalArrays.CategoricalValue{String1, UInt32}\" style = \"text-align: left;\">Cat…</th><th title = \"CategoricalArrays.CategoricalValue{String1, UInt32}\" style = \"text-align: left;\">Cat…</th><th title = \"CategoricalArrays.CategoricalValue{String1, UInt32}\" style = \"text-align: left;\">Cat…</th><th title = \"CategoricalArrays.CategoricalValue{String1, UInt32}\" style = \"text-align: left;\">Cat…</th><th title = \"CategoricalArrays.CategoricalValue{String1, UInt32}\" style = \"text-align: left;\">Cat…</th></tr></thead><tbody><tr><td class = \"rowNumber\" style = \"font-weight: bold; text-align: right;\">1</td><td style = \"text-align: left;\">f</td><td style = \"text-align: left;\">f</td><td style = \"text-align: left;\">n</td><td style = \"text-align: left;\">t</td><td style = \"text-align: left;\">n</td><td style = \"text-align: left;\">f</td><td style = \"text-align: left;\">c</td><td style = \"text-align: left;\">b</td><td style = \"text-align: left;\">w</td><td style = \"text-align: left;\">t</td><td style = \"text-align: left;\">b</td><td style = \"text-align: left;\">s</td><td style = \"text-align: left;\">s</td><td style = \"text-align: left;\">g</td><td style = \"text-align: left;\">g</td><td style = \"text-align: left;\">p</td><td style = \"text-align: left;\">w</td><td style = \"text-align: left;\">o</td><td style = \"text-align: left;\">p</td><td style = \"text-align: left;\">k</td><td style = \"text-align: left;\">v</td><td style = \"text-align: left;\">d</td></tr><tr><td class = \"rowNumber\" style = \"font-weight: bold; text-align: right;\">2</td><td style = \"text-align: left;\">f</td><td style = \"text-align: left;\">f</td><td style = \"text-align: left;\">n</td><td style = \"text-align: left;\">t</td><td style = \"text-align: left;\">n</td><td style = \"text-align: left;\">f</td><td style = \"text-align: left;\">c</td><td style = \"text-align: left;\">b</td><td style = \"text-align: left;\">w</td><td style = \"text-align: left;\">t</td><td style = \"text-align: left;\">b</td><td style = \"text-align: left;\">s</td><td style = \"text-align: left;\">s</td><td style = \"text-align: left;\">w</td><td style = \"text-align: left;\">p</td><td style = \"text-align: left;\">p</td><td style = \"text-align: left;\">w</td><td style = \"text-align: left;\">o</td><td style = \"text-align: left;\">p</td><td style = \"text-align: left;\">n</td><td style = \"text-align: left;\">y</td><td style = \"text-align: left;\">d</td></tr><tr><td class = \"rowNumber\" style = \"font-weight: bold; text-align: right;\">3</td><td style = \"text-align: left;\">b</td><td style = \"text-align: left;\">s</td><td style = \"text-align: left;\">y</td><td style = \"text-align: left;\">t</td><td style = \"text-align: left;\">l</td><td style = \"text-align: left;\">f</td><td style = \"text-align: left;\">c</td><td style = \"text-align: left;\">b</td><td style = \"text-align: left;\">k</td><td style = \"text-align: left;\">e</td><td style = \"text-align: left;\">c</td><td style = \"text-align: left;\">s</td><td style = \"text-align: left;\">s</td><td style = \"text-align: left;\">w</td><td style = \"text-align: left;\">w</td><td style = \"text-align: left;\">p</td><td style = \"text-align: left;\">w</td><td style = \"text-align: left;\">o</td><td style = \"text-align: left;\">p</td><td style = \"text-align: left;\">k</td><td style = \"text-align: left;\">s</td><td style = \"text-align: left;\">g</td></tr><tr><td class = \"rowNumber\" style = \"font-weight: bold; text-align: right;\">4</td><td style = \"text-align: left;\">f</td><td style = \"text-align: left;\">y</td><td style = \"text-align: left;\">e</td><td style = \"text-align: left;\">f</td><td style = \"text-align: left;\">m</td><td style = \"text-align: left;\">f</td><td style = \"text-align: left;\">c</td><td style = \"text-align: left;\">b</td><td style = \"text-align: left;\">w</td><td style = \"text-align: left;\">e</td><td style = \"text-align: left;\">c</td><td style = \"text-align: left;\">k</td><td style = \"text-align: left;\">y</td><td style = \"text-align: left;\">c</td><td style = \"text-align: left;\">c</td><td style = \"text-align: left;\">p</td><td style = \"text-align: left;\">w</td><td style = \"text-align: left;\">n</td><td style = \"text-align: left;\">n</td><td style = \"text-align: left;\">w</td><td style = \"text-align: left;\">c</td><td style = \"text-align: left;\">d</td></tr><tr><td class = \"rowNumber\" style = \"font-weight: bold; text-align: right;\">5</td><td style = \"text-align: left;\">x</td><td style = \"text-align: left;\">y</td><td style = \"text-align: left;\">n</td><td style = \"text-align: left;\">f</td><td style = \"text-align: left;\">n</td><td style = \"text-align: left;\">f</td><td style = \"text-align: left;\">w</td><td style = \"text-align: left;\">n</td><td style = \"text-align: left;\">w</td><td style = \"text-align: left;\">e</td><td style = \"text-align: left;\">b</td><td style = \"text-align: left;\">f</td><td style = \"text-align: left;\">f</td><td style = \"text-align: left;\">w</td><td style = \"text-align: left;\">n</td><td style = \"text-align: left;\">p</td><td style = \"text-align: left;\">w</td><td style = \"text-align: left;\">o</td><td style = \"text-align: left;\">e</td><td style = \"text-align: left;\">w</td><td style = \"text-align: left;\">v</td><td style = \"text-align: left;\">l</td></tr></tbody></table></div>"
      ],
      "text/latex": [
       "\\begin{tabular}{r|cccccccc}\n",
       "\t& cap-shape & cap-surface & cap-color & bruises & odor & gill-attachment & gill-spacing & \\\\\n",
       "\t\\hline\n",
       "\t& Cat… & Cat… & Cat… & Cat… & Cat… & Cat… & Cat… & \\\\\n",
       "\t\\hline\n",
       "\t1 & f & f & n & t & n & f & c & $\\dots$ \\\\\n",
       "\t2 & f & f & n & t & n & f & c & $\\dots$ \\\\\n",
       "\t3 & b & s & y & t & l & f & c & $\\dots$ \\\\\n",
       "\t4 & f & y & e & f & m & f & c & $\\dots$ \\\\\n",
       "\t5 & x & y & n & f & n & f & w & $\\dots$ \\\\\n",
       "\\end{tabular}\n"
      ],
      "text/plain": [
       "\u001b[1m5×22 DataFrame\u001b[0m\n",
       "\u001b[1m Row \u001b[0m│\u001b[1m cap-shape \u001b[0m\u001b[1m cap-surface \u001b[0m\u001b[1m cap-color \u001b[0m\u001b[1m bruises \u001b[0m\u001b[1m odor \u001b[0m\u001b[1m gill-attachment \u001b[0m\u001b[1m gill\u001b[0m ⋯\n",
       "     │\u001b[90m Cat…      \u001b[0m\u001b[90m Cat…        \u001b[0m\u001b[90m Cat…      \u001b[0m\u001b[90m Cat…    \u001b[0m\u001b[90m Cat… \u001b[0m\u001b[90m Cat…            \u001b[0m\u001b[90m Cat…\u001b[0m ⋯\n",
       "─────┼──────────────────────────────────────────────────────────────────────────\n",
       "   1 │ f          f            n          t        n     f                c    ⋯\n",
       "   2 │ f          f            n          t        n     f                c\n",
       "   3 │ b          s            y          t        l     f                c\n",
       "   4 │ f          y            e          f        m     f                c\n",
       "   5 │ x          y            n          f        n     f                w    ⋯\n",
       "\u001b[36m                                                              16 columns omitted\u001b[0m"
      ]
     },
     "metadata": {},
     "output_type": "display_data"
    }
   ],
   "source": [
    "y, X = unpack(df, ==(:class); rng=123);\n",
    "first(X, 5)"
   ]
  },
  {
   "cell_type": "code",
   "execution_count": 5,
   "metadata": {},
   "outputs": [
    {
     "data": {
      "text/plain": [
       "(CategoricalArrays.CategoricalValue{String1, UInt32}[String1(\"p\"), String1(\"p\"), String1(\"e\"), String1(\"p\"), String1(\"p\"), String1(\"e\"), String1(\"p\"), String1(\"e\"), String1(\"p\"), String1(\"e\")  …  String1(\"p\"), String1(\"e\"), String1(\"e\"), String1(\"p\"), String1(\"p\"), String1(\"p\"), String1(\"e\"), String1(\"e\"), String1(\"e\"), String1(\"p\")], CategoricalArrays.CategoricalValue{String1, UInt32}[String1(\"p\"), String1(\"p\"), String1(\"e\"), String1(\"p\"), String1(\"p\"), String1(\"e\"), String1(\"p\"), String1(\"e\"), String1(\"e\"), String1(\"e\")  …  String1(\"p\"), String1(\"p\"), String1(\"e\"), String1(\"e\"), String1(\"p\"), String1(\"p\"), String1(\"p\"), String1(\"e\"), String1(\"e\"), String1(\"e\")])"
      ]
     },
     "metadata": {},
     "output_type": "display_data"
    }
   ],
   "source": [
    "train_inds, test_inds = partition(eachindex(y), 0.8, shuffle=true, stratify=y, rng=Random.Xoshiro(42))\n",
    "X_train, X_test = X[train_inds, :], X[test_inds, :]\n",
    "y_train, y_test = y[train_inds], y[test_inds]"
   ]
  },
  {
   "cell_type": "code",
   "execution_count": 24,
   "metadata": {},
   "outputs": [
    {
     "name": "stdout",
     "output_type": "stream",
     "text": [
      "import MLJDecisionTreeInterface ✔\n"
     ]
    },
    {
     "name": "stderr",
     "output_type": "stream",
     "text": [
      "┌ Info: For silent loading, specify `verbosity=0`. \n",
      "└ @ Main /Users/essam/.julia/packages/MLJModels/Lwfeb/src/loading.jl:159\n"
     ]
    },
    {
     "data": {
      "text/plain": [
       "RandomForestClassifier(\n",
       "  max_depth = -1, \n",
       "  min_samples_leaf = 1, \n",
       "  min_samples_split = 2, \n",
       "  min_purity_increase = 0.0, \n",
       "  n_subfeatures = -1, \n",
       "  n_trees = 100, \n",
       "  sampling_fraction = 0.7, \n",
       "  feature_importance = :impurity, \n",
       "  rng = Random._GLOBAL_RNG())"
      ]
     },
     "metadata": {},
     "output_type": "display_data"
    }
   ],
   "source": [
    "RandomForestClassifier = @load RandomForestClassifier pkg=DecisionTree\n",
    "\n",
    "encoder = TargetEncoder(encode_ordinal = false, lambda = 0.1, m=0)\n",
    "clf = RandomForestClassifier()"
   ]
  },
  {
   "cell_type": "code",
   "execution_count": 25,
   "metadata": {},
   "outputs": [
    {
     "name": "stderr",
     "output_type": "stream",
     "text": [
      "┌ Info: Training machine(TargetEncoder(cols = Symbol[], …), …).\n",
      "└ @ MLJBase /Users/essam/.julia/packages/MLJBase/qETMX/src/machines.jl:499\n"
     ]
    }
   ],
   "source": [
    "mach = fit!(machine(encoder, X_train, y_train))\n",
    "X_train_enc = MLJ.transform(mach, X_train)\n",
    "X_test_enc = MLJ.transform(mach, X_test);"
   ]
  },
  {
   "cell_type": "code",
   "execution_count": 26,
   "metadata": {},
   "outputs": [
    {
     "name": "stderr",
     "output_type": "stream",
     "text": [
      "┌ Info: Training machine(RandomForestClassifier(max_depth = -1, …), …).\n",
      "└ @ MLJBase /Users/essam/.julia/packages/MLJBase/qETMX/src/machines.jl:499\n",
      "\u001b[33mEvaluating over 5 folds: 100%[=========================] Time: 0:00:00\u001b[39m\u001b[K\n"
     ]
    },
    {
     "data": {
      "text/plain": [
       "PerformanceEvaluation object with these fields:\n",
       "  model, measure, operation,\n",
       "  measurement, per_fold, per_observation,\n",
       "  fitted_params_per_fold, report_per_fold,\n",
       "  train_test_rows, resampling, repeats\n",
       "Extract:\n",
       "┌────────────┬──────────────┬─────────────┐\n",
       "│\u001b[22m measure    \u001b[0m│\u001b[22m operation    \u001b[0m│\u001b[22m measurement \u001b[0m│\n",
       "├────────────┼──────────────┼─────────────┤\n",
       "│ Accuracy() │ predict_mode │ 1.0         │\n",
       "└────────────┴──────────────┴─────────────┘\n",
       "┌───────────────────────────┬─────────┐\n",
       "│\u001b[22m per_fold                  \u001b[0m│\u001b[22m 1.96*SE \u001b[0m│\n",
       "├───────────────────────────┼─────────┤\n",
       "│ [1.0, 1.0, 1.0, 1.0, 1.0] │ 0.0     │\n",
       "└───────────────────────────┴─────────┘\n"
      ]
     },
     "metadata": {},
     "output_type": "display_data"
    }
   ],
   "source": [
    "mach = machine(clf, X_train_enc, y_train)\n",
    "fit!(mach)\n",
    "cv=CV(nfolds=5)\n",
    "evaluate!(mach, resampling=cv, measure=accuracy)"
   ]
  }
 ],
 "metadata": {
  "kernelspec": {
   "display_name": "Julia 1.10.0",
   "language": "julia",
   "name": "julia-1.10"
  },
  "language_info": {
   "file_extension": ".jl",
   "mimetype": "application/julia",
   "name": "julia",
   "version": "1.10.0"
  }
 },
 "nbformat": 4,
 "nbformat_minor": 2
}
