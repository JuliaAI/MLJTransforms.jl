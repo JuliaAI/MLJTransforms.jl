{
 "cells": [
  {
   "cell_type": "code",
   "execution_count": 2,
   "metadata": {},
   "outputs": [
    {
     "name": "stderr",
     "output_type": "stream",
     "text": [
      "\u001b[32m\u001b[1m  Activating\u001b[22m\u001b[39m project at `~/Documents/GitHub/MLJTransforms/examples`\n"
     ]
    }
   ],
   "source": [
    "using Pkg\n",
    "Pkg.activate(@__DIR__)\n",
    "Pkg.instantiate()\n",
    "\n",
    "using DataFrames\n",
    "using MLJTransforms     # dev ..\n",
    "using Plots\n",
    "using CSV\n",
    "using HTTP\n",
    "using MLJ\n",
    "using ScientificTypes\n",
    "using Random"
   ]
  },
  {
   "cell_type": "code",
   "execution_count": 3,
   "metadata": {},
   "outputs": [
    {
     "name": "stderr",
     "output_type": "stream",
     "text": [
      "┌ Warning: Reading one byte at a time from HTTP.Stream is inefficient.\n",
      "│ Use: io = BufferedInputStream(http::HTTP.Stream) instead.\n",
      "│ See: https://github.com/BioJulia/BufferedStreams.jl\n",
      "└ @ HTTP.Streams /Users/essam/.julia/packages/HTTP/sJD5V/src/Streams.jl:240\n",
      "┌ Info: Downloading\n",
      "│   source = https://raw.githubusercontent.com/JuliaAI/Imbalance.jl/dev/docs/src/examples/smoten_mushroom/mushrooms.csv\n",
      "│   dest = ./mushrooms.csv\n",
      "│   progress = NaN\n",
      "│   time_taken = 0.31 s\n",
      "│   time_remaining = NaN s\n",
      "│   average_speed = 1.143 MiB/s\n",
      "│   downloaded = 365.237 KiB\n",
      "│   remaining = ∞ B\n",
      "│   total = ∞ B\n",
      "└ @ HTTP /Users/essam/.julia/packages/HTTP/sJD5V/src/download.jl:132\n"
     ]
    },
    {
     "data": {
      "text/html": [
       "<div><div style = \"float: left;\"><span>5×23 DataFrame</span></div><div style = \"clear: both;\"></div></div><div class = \"data-frame\" style = \"overflow-x: scroll;\"><table class = \"data-frame\" style = \"margin-bottom: 6px;\"><thead><tr class = \"header\"><th class = \"rowNumber\" style = \"font-weight: bold; text-align: right;\">Row</th><th style = \"text-align: left;\">class</th><th style = \"text-align: left;\">cap-shape</th><th style = \"text-align: left;\">cap-surface</th><th style = \"text-align: left;\">cap-color</th><th style = \"text-align: left;\">bruises</th><th style = \"text-align: left;\">odor</th><th style = \"text-align: left;\">gill-attachment</th><th style = \"text-align: left;\">gill-spacing</th><th style = \"text-align: left;\">gill-size</th><th style = \"text-align: left;\">gill-color</th><th style = \"text-align: left;\">stalk-shape</th><th style = \"text-align: left;\">stalk-root</th><th style = \"text-align: left;\">stalk-surface-above-ring</th><th style = \"text-align: left;\">stalk-surface-below-ring</th><th style = \"text-align: left;\">stalk-color-above-ring</th><th style = \"text-align: left;\">stalk-color-below-ring</th><th style = \"text-align: left;\">veil-type</th><th style = \"text-align: left;\">veil-color</th><th style = \"text-align: left;\">ring-number</th><th style = \"text-align: left;\">ring-type</th><th style = \"text-align: left;\">spore-print-color</th><th style = \"text-align: left;\">population</th><th style = \"text-align: left;\">habitat</th></tr><tr class = \"subheader headerLastRow\"><th class = \"rowNumber\" style = \"font-weight: bold; text-align: right;\"></th><th title = \"String1\" style = \"text-align: left;\">String1</th><th title = \"String1\" style = \"text-align: left;\">String1</th><th title = \"String1\" style = \"text-align: left;\">String1</th><th title = \"String1\" style = \"text-align: left;\">String1</th><th title = \"String1\" style = \"text-align: left;\">String1</th><th title = \"String1\" style = \"text-align: left;\">String1</th><th title = \"String1\" style = \"text-align: left;\">String1</th><th title = \"String1\" style = \"text-align: left;\">String1</th><th title = \"String1\" style = \"text-align: left;\">String1</th><th title = \"String1\" style = \"text-align: left;\">String1</th><th title = \"String1\" style = \"text-align: left;\">String1</th><th title = \"String1\" style = \"text-align: left;\">String1</th><th title = \"String1\" style = \"text-align: left;\">String1</th><th title = \"String1\" style = \"text-align: left;\">String1</th><th title = \"String1\" style = \"text-align: left;\">String1</th><th title = \"String1\" style = \"text-align: left;\">String1</th><th title = \"String1\" style = \"text-align: left;\">String1</th><th title = \"String1\" style = \"text-align: left;\">String1</th><th title = \"String1\" style = \"text-align: left;\">String1</th><th title = \"String1\" style = \"text-align: left;\">String1</th><th title = \"String1\" style = \"text-align: left;\">String1</th><th title = \"String1\" style = \"text-align: left;\">String1</th><th title = \"String1\" style = \"text-align: left;\">String1</th></tr></thead><tbody><tr><td class = \"rowNumber\" style = \"font-weight: bold; text-align: right;\">1</td><td style = \"text-align: left;\">p</td><td style = \"text-align: left;\">x</td><td style = \"text-align: left;\">s</td><td style = \"text-align: left;\">n</td><td style = \"text-align: left;\">t</td><td style = \"text-align: left;\">p</td><td style = \"text-align: left;\">f</td><td style = \"text-align: left;\">c</td><td style = \"text-align: left;\">n</td><td style = \"text-align: left;\">k</td><td style = \"text-align: left;\">e</td><td style = \"text-align: left;\">e</td><td style = \"text-align: left;\">s</td><td style = \"text-align: left;\">s</td><td style = \"text-align: left;\">w</td><td style = \"text-align: left;\">w</td><td style = \"text-align: left;\">p</td><td style = \"text-align: left;\">w</td><td style = \"text-align: left;\">o</td><td style = \"text-align: left;\">p</td><td style = \"text-align: left;\">k</td><td style = \"text-align: left;\">s</td><td style = \"text-align: left;\">u</td></tr><tr><td class = \"rowNumber\" style = \"font-weight: bold; text-align: right;\">2</td><td style = \"text-align: left;\">e</td><td style = \"text-align: left;\">x</td><td style = \"text-align: left;\">s</td><td style = \"text-align: left;\">y</td><td style = \"text-align: left;\">t</td><td style = \"text-align: left;\">a</td><td style = \"text-align: left;\">f</td><td style = \"text-align: left;\">c</td><td style = \"text-align: left;\">b</td><td style = \"text-align: left;\">k</td><td style = \"text-align: left;\">e</td><td style = \"text-align: left;\">c</td><td style = \"text-align: left;\">s</td><td style = \"text-align: left;\">s</td><td style = \"text-align: left;\">w</td><td style = \"text-align: left;\">w</td><td style = \"text-align: left;\">p</td><td style = \"text-align: left;\">w</td><td style = \"text-align: left;\">o</td><td style = \"text-align: left;\">p</td><td style = \"text-align: left;\">n</td><td style = \"text-align: left;\">n</td><td style = \"text-align: left;\">g</td></tr><tr><td class = \"rowNumber\" style = \"font-weight: bold; text-align: right;\">3</td><td style = \"text-align: left;\">e</td><td style = \"text-align: left;\">b</td><td style = \"text-align: left;\">s</td><td style = \"text-align: left;\">w</td><td style = \"text-align: left;\">t</td><td style = \"text-align: left;\">l</td><td style = \"text-align: left;\">f</td><td style = \"text-align: left;\">c</td><td style = \"text-align: left;\">b</td><td style = \"text-align: left;\">n</td><td style = \"text-align: left;\">e</td><td style = \"text-align: left;\">c</td><td style = \"text-align: left;\">s</td><td style = \"text-align: left;\">s</td><td style = \"text-align: left;\">w</td><td style = \"text-align: left;\">w</td><td style = \"text-align: left;\">p</td><td style = \"text-align: left;\">w</td><td style = \"text-align: left;\">o</td><td style = \"text-align: left;\">p</td><td style = \"text-align: left;\">n</td><td style = \"text-align: left;\">n</td><td style = \"text-align: left;\">m</td></tr><tr><td class = \"rowNumber\" style = \"font-weight: bold; text-align: right;\">4</td><td style = \"text-align: left;\">p</td><td style = \"text-align: left;\">x</td><td style = \"text-align: left;\">y</td><td style = \"text-align: left;\">w</td><td style = \"text-align: left;\">t</td><td style = \"text-align: left;\">p</td><td style = \"text-align: left;\">f</td><td style = \"text-align: left;\">c</td><td style = \"text-align: left;\">n</td><td style = \"text-align: left;\">n</td><td style = \"text-align: left;\">e</td><td style = \"text-align: left;\">e</td><td style = \"text-align: left;\">s</td><td style = \"text-align: left;\">s</td><td style = \"text-align: left;\">w</td><td style = \"text-align: left;\">w</td><td style = \"text-align: left;\">p</td><td style = \"text-align: left;\">w</td><td style = \"text-align: left;\">o</td><td style = \"text-align: left;\">p</td><td style = \"text-align: left;\">k</td><td style = \"text-align: left;\">s</td><td style = \"text-align: left;\">u</td></tr><tr><td class = \"rowNumber\" style = \"font-weight: bold; text-align: right;\">5</td><td style = \"text-align: left;\">e</td><td style = \"text-align: left;\">x</td><td style = \"text-align: left;\">s</td><td style = \"text-align: left;\">g</td><td style = \"text-align: left;\">f</td><td style = \"text-align: left;\">n</td><td style = \"text-align: left;\">f</td><td style = \"text-align: left;\">w</td><td style = \"text-align: left;\">b</td><td style = \"text-align: left;\">k</td><td style = \"text-align: left;\">t</td><td style = \"text-align: left;\">e</td><td style = \"text-align: left;\">s</td><td style = \"text-align: left;\">s</td><td style = \"text-align: left;\">w</td><td style = \"text-align: left;\">w</td><td style = \"text-align: left;\">p</td><td style = \"text-align: left;\">w</td><td style = \"text-align: left;\">o</td><td style = \"text-align: left;\">e</td><td style = \"text-align: left;\">n</td><td style = \"text-align: left;\">a</td><td style = \"text-align: left;\">g</td></tr></tbody></table></div>"
      ],
      "text/latex": [
       "\\begin{tabular}{r|ccccccccc}\n",
       "\t& class & cap-shape & cap-surface & cap-color & bruises & odor & gill-attachment & gill-spacing & \\\\\n",
       "\t\\hline\n",
       "\t& String1 & String1 & String1 & String1 & String1 & String1 & String1 & String1 & \\\\\n",
       "\t\\hline\n",
       "\t1 & p & x & s & n & t & p & f & c & $\\dots$ \\\\\n",
       "\t2 & e & x & s & y & t & a & f & c & $\\dots$ \\\\\n",
       "\t3 & e & b & s & w & t & l & f & c & $\\dots$ \\\\\n",
       "\t4 & p & x & y & w & t & p & f & c & $\\dots$ \\\\\n",
       "\t5 & e & x & s & g & f & n & f & w & $\\dots$ \\\\\n",
       "\\end{tabular}\n"
      ],
      "text/plain": [
       "\u001b[1m5×23 DataFrame\u001b[0m\n",
       "\u001b[1m Row \u001b[0m│\u001b[1m class   \u001b[0m\u001b[1m cap-shape \u001b[0m\u001b[1m cap-surface \u001b[0m\u001b[1m cap-color \u001b[0m\u001b[1m bruises \u001b[0m\u001b[1m odor    \u001b[0m\u001b[1m gill-atta\u001b[0m ⋯\n",
       "     │\u001b[90m String1 \u001b[0m\u001b[90m String1   \u001b[0m\u001b[90m String1     \u001b[0m\u001b[90m String1   \u001b[0m\u001b[90m String1 \u001b[0m\u001b[90m String1 \u001b[0m\u001b[90m String1  \u001b[0m ⋯\n",
       "─────┼──────────────────────────────────────────────────────────────────────────\n",
       "   1 │ p        x          s            n          t        p        f         ⋯\n",
       "   2 │ e        x          s            y          t        a        f\n",
       "   3 │ e        b          s            w          t        l        f\n",
       "   4 │ p        x          y            w          t        p        f\n",
       "   5 │ e        x          s            g          f        n        f         ⋯\n",
       "\u001b[36m                                                              17 columns omitted\u001b[0m"
      ]
     },
     "metadata": {},
     "output_type": "display_data"
    }
   ],
   "source": [
    "HTTP.download(\"https://raw.githubusercontent.com/JuliaAI/Imbalance.jl/dev/docs/src/examples/smoten_mushroom/mushrooms.csv\", \".\")\n",
    "df = CSV.read(\"./mushrooms.csv\", DataFrame)\n",
    "\n",
    "# Display the first 5 rows with DataFrames\n",
    "first(df, 5)"
   ]
  },
  {
   "cell_type": "code",
   "execution_count": 4,
   "metadata": {},
   "outputs": [
    {
     "data": {
      "text/plain": [
       "┌──────────────────────────┬────────────────┬───────────────────────────────────\n",
       "│\u001b[22m names                    \u001b[0m│\u001b[22m scitypes       \u001b[0m│\u001b[22m types                           \u001b[0m ⋯\n",
       "├──────────────────────────┼────────────────┼───────────────────────────────────\n",
       "│ class                    │ Multiclass{2}  │ CategoricalValue{String1, UInt32 ⋯\n",
       "│ cap-shape                │ Multiclass{6}  │ CategoricalValue{String1, UInt32 ⋯\n",
       "│ cap-surface              │ Multiclass{4}  │ CategoricalValue{String1, UInt32 ⋯\n",
       "│ cap-color                │ Multiclass{10} │ CategoricalValue{String1, UInt32 ⋯\n",
       "│ bruises                  │ Multiclass{2}  │ CategoricalValue{String1, UInt32 ⋯\n",
       "│ odor                     │ Multiclass{9}  │ CategoricalValue{String1, UInt32 ⋯\n",
       "│ gill-attachment          │ Multiclass{2}  │ CategoricalValue{String1, UInt32 ⋯\n",
       "│ gill-spacing             │ Multiclass{2}  │ CategoricalValue{String1, UInt32 ⋯\n",
       "│ gill-size                │ Multiclass{2}  │ CategoricalValue{String1, UInt32 ⋯\n",
       "│ gill-color               │ Multiclass{12} │ CategoricalValue{String1, UInt32 ⋯\n",
       "│ stalk-shape              │ Multiclass{2}  │ CategoricalValue{String1, UInt32 ⋯\n",
       "│ stalk-root               │ Multiclass{5}  │ CategoricalValue{String1, UInt32 ⋯\n",
       "│ stalk-surface-above-ring │ Multiclass{4}  │ CategoricalValue{String1, UInt32 ⋯\n",
       "│ stalk-surface-below-ring │ Multiclass{4}  │ CategoricalValue{String1, UInt32 ⋯\n",
       "│ stalk-color-above-ring   │ Multiclass{9}  │ CategoricalValue{String1, UInt32 ⋯\n",
       "│ stalk-color-below-ring   │ Multiclass{9}  │ CategoricalValue{String1, UInt32 ⋯\n",
       "│            ⋮             │       ⋮        │                 ⋮                ⋱\n",
       "└──────────────────────────┴────────────────┴───────────────────────────────────\n",
       "\u001b[36m                                                     1 column and 7 rows omitted\u001b[0m\n"
      ]
     },
     "metadata": {},
     "output_type": "display_data"
    }
   ],
   "source": [
    "df = coerce(df, autotype(df, :few_to_finite))\n",
    "ScientificTypes.schema(df)"
   ]
  },
  {
   "cell_type": "code",
   "execution_count": 5,
   "metadata": {},
   "outputs": [
    {
     "data": {
      "text/html": [
       "<div><div style = \"float: left;\"><span>5×22 DataFrame</span></div><div style = \"clear: both;\"></div></div><div class = \"data-frame\" style = \"overflow-x: scroll;\"><table class = \"data-frame\" style = \"margin-bottom: 6px;\"><thead><tr class = \"header\"><th class = \"rowNumber\" style = \"font-weight: bold; text-align: right;\">Row</th><th style = \"text-align: left;\">cap-shape</th><th style = \"text-align: left;\">cap-surface</th><th style = \"text-align: left;\">cap-color</th><th style = \"text-align: left;\">bruises</th><th style = \"text-align: left;\">odor</th><th style = \"text-align: left;\">gill-attachment</th><th style = \"text-align: left;\">gill-spacing</th><th style = \"text-align: left;\">gill-size</th><th style = \"text-align: left;\">gill-color</th><th style = \"text-align: left;\">stalk-shape</th><th style = \"text-align: left;\">stalk-root</th><th style = \"text-align: left;\">stalk-surface-above-ring</th><th style = \"text-align: left;\">stalk-surface-below-ring</th><th style = \"text-align: left;\">stalk-color-above-ring</th><th style = \"text-align: left;\">stalk-color-below-ring</th><th style = \"text-align: left;\">veil-type</th><th style = \"text-align: left;\">veil-color</th><th style = \"text-align: left;\">ring-number</th><th style = \"text-align: left;\">ring-type</th><th style = \"text-align: left;\">spore-print-color</th><th style = \"text-align: left;\">population</th><th style = \"text-align: left;\">habitat</th></tr><tr class = \"subheader headerLastRow\"><th class = \"rowNumber\" style = \"font-weight: bold; text-align: right;\"></th><th title = \"CategoricalArrays.CategoricalValue{String1, UInt32}\" style = \"text-align: left;\">Cat…</th><th title = \"CategoricalArrays.CategoricalValue{String1, UInt32}\" style = \"text-align: left;\">Cat…</th><th title = \"CategoricalArrays.CategoricalValue{String1, UInt32}\" style = \"text-align: left;\">Cat…</th><th title = \"CategoricalArrays.CategoricalValue{String1, UInt32}\" style = \"text-align: left;\">Cat…</th><th title = \"CategoricalArrays.CategoricalValue{String1, UInt32}\" style = \"text-align: left;\">Cat…</th><th title = \"CategoricalArrays.CategoricalValue{String1, UInt32}\" style = \"text-align: left;\">Cat…</th><th title = \"CategoricalArrays.CategoricalValue{String1, UInt32}\" style = \"text-align: left;\">Cat…</th><th title = \"CategoricalArrays.CategoricalValue{String1, UInt32}\" style = \"text-align: left;\">Cat…</th><th title = \"CategoricalArrays.CategoricalValue{String1, UInt32}\" style = \"text-align: left;\">Cat…</th><th title = \"CategoricalArrays.CategoricalValue{String1, UInt32}\" style = \"text-align: left;\">Cat…</th><th title = \"CategoricalArrays.CategoricalValue{String1, UInt32}\" style = \"text-align: left;\">Cat…</th><th title = \"CategoricalArrays.CategoricalValue{String1, UInt32}\" style = \"text-align: left;\">Cat…</th><th title = \"CategoricalArrays.CategoricalValue{String1, UInt32}\" style = \"text-align: left;\">Cat…</th><th title = \"CategoricalArrays.CategoricalValue{String1, UInt32}\" style = \"text-align: left;\">Cat…</th><th title = \"CategoricalArrays.CategoricalValue{String1, UInt32}\" style = \"text-align: left;\">Cat…</th><th title = \"CategoricalArrays.CategoricalValue{String1, UInt32}\" style = \"text-align: left;\">Cat…</th><th title = \"CategoricalArrays.CategoricalValue{String1, UInt32}\" style = \"text-align: left;\">Cat…</th><th title = \"CategoricalArrays.CategoricalValue{String1, UInt32}\" style = \"text-align: left;\">Cat…</th><th title = \"CategoricalArrays.CategoricalValue{String1, UInt32}\" style = \"text-align: left;\">Cat…</th><th title = \"CategoricalArrays.CategoricalValue{String1, UInt32}\" style = \"text-align: left;\">Cat…</th><th title = \"CategoricalArrays.CategoricalValue{String1, UInt32}\" style = \"text-align: left;\">Cat…</th><th title = \"CategoricalArrays.CategoricalValue{String1, UInt32}\" style = \"text-align: left;\">Cat…</th></tr></thead><tbody><tr><td class = \"rowNumber\" style = \"font-weight: bold; text-align: right;\">1</td><td style = \"text-align: left;\">f</td><td style = \"text-align: left;\">f</td><td style = \"text-align: left;\">n</td><td style = \"text-align: left;\">t</td><td style = \"text-align: left;\">n</td><td style = \"text-align: left;\">f</td><td style = \"text-align: left;\">c</td><td style = \"text-align: left;\">b</td><td style = \"text-align: left;\">w</td><td style = \"text-align: left;\">t</td><td style = \"text-align: left;\">b</td><td style = \"text-align: left;\">s</td><td style = \"text-align: left;\">s</td><td style = \"text-align: left;\">g</td><td style = \"text-align: left;\">g</td><td style = \"text-align: left;\">p</td><td style = \"text-align: left;\">w</td><td style = \"text-align: left;\">o</td><td style = \"text-align: left;\">p</td><td style = \"text-align: left;\">k</td><td style = \"text-align: left;\">v</td><td style = \"text-align: left;\">d</td></tr><tr><td class = \"rowNumber\" style = \"font-weight: bold; text-align: right;\">2</td><td style = \"text-align: left;\">f</td><td style = \"text-align: left;\">f</td><td style = \"text-align: left;\">n</td><td style = \"text-align: left;\">t</td><td style = \"text-align: left;\">n</td><td style = \"text-align: left;\">f</td><td style = \"text-align: left;\">c</td><td style = \"text-align: left;\">b</td><td style = \"text-align: left;\">w</td><td style = \"text-align: left;\">t</td><td style = \"text-align: left;\">b</td><td style = \"text-align: left;\">s</td><td style = \"text-align: left;\">s</td><td style = \"text-align: left;\">w</td><td style = \"text-align: left;\">p</td><td style = \"text-align: left;\">p</td><td style = \"text-align: left;\">w</td><td style = \"text-align: left;\">o</td><td style = \"text-align: left;\">p</td><td style = \"text-align: left;\">n</td><td style = \"text-align: left;\">y</td><td style = \"text-align: left;\">d</td></tr><tr><td class = \"rowNumber\" style = \"font-weight: bold; text-align: right;\">3</td><td style = \"text-align: left;\">b</td><td style = \"text-align: left;\">s</td><td style = \"text-align: left;\">y</td><td style = \"text-align: left;\">t</td><td style = \"text-align: left;\">l</td><td style = \"text-align: left;\">f</td><td style = \"text-align: left;\">c</td><td style = \"text-align: left;\">b</td><td style = \"text-align: left;\">k</td><td style = \"text-align: left;\">e</td><td style = \"text-align: left;\">c</td><td style = \"text-align: left;\">s</td><td style = \"text-align: left;\">s</td><td style = \"text-align: left;\">w</td><td style = \"text-align: left;\">w</td><td style = \"text-align: left;\">p</td><td style = \"text-align: left;\">w</td><td style = \"text-align: left;\">o</td><td style = \"text-align: left;\">p</td><td style = \"text-align: left;\">k</td><td style = \"text-align: left;\">s</td><td style = \"text-align: left;\">g</td></tr><tr><td class = \"rowNumber\" style = \"font-weight: bold; text-align: right;\">4</td><td style = \"text-align: left;\">f</td><td style = \"text-align: left;\">y</td><td style = \"text-align: left;\">e</td><td style = \"text-align: left;\">f</td><td style = \"text-align: left;\">m</td><td style = \"text-align: left;\">f</td><td style = \"text-align: left;\">c</td><td style = \"text-align: left;\">b</td><td style = \"text-align: left;\">w</td><td style = \"text-align: left;\">e</td><td style = \"text-align: left;\">c</td><td style = \"text-align: left;\">k</td><td style = \"text-align: left;\">y</td><td style = \"text-align: left;\">c</td><td style = \"text-align: left;\">c</td><td style = \"text-align: left;\">p</td><td style = \"text-align: left;\">w</td><td style = \"text-align: left;\">n</td><td style = \"text-align: left;\">n</td><td style = \"text-align: left;\">w</td><td style = \"text-align: left;\">c</td><td style = \"text-align: left;\">d</td></tr><tr><td class = \"rowNumber\" style = \"font-weight: bold; text-align: right;\">5</td><td style = \"text-align: left;\">x</td><td style = \"text-align: left;\">y</td><td style = \"text-align: left;\">n</td><td style = \"text-align: left;\">f</td><td style = \"text-align: left;\">n</td><td style = \"text-align: left;\">f</td><td style = \"text-align: left;\">w</td><td style = \"text-align: left;\">n</td><td style = \"text-align: left;\">w</td><td style = \"text-align: left;\">e</td><td style = \"text-align: left;\">b</td><td style = \"text-align: left;\">f</td><td style = \"text-align: left;\">f</td><td style = \"text-align: left;\">w</td><td style = \"text-align: left;\">n</td><td style = \"text-align: left;\">p</td><td style = \"text-align: left;\">w</td><td style = \"text-align: left;\">o</td><td style = \"text-align: left;\">e</td><td style = \"text-align: left;\">w</td><td style = \"text-align: left;\">v</td><td style = \"text-align: left;\">l</td></tr></tbody></table></div>"
      ],
      "text/latex": [
       "\\begin{tabular}{r|cccccccc}\n",
       "\t& cap-shape & cap-surface & cap-color & bruises & odor & gill-attachment & gill-spacing & \\\\\n",
       "\t\\hline\n",
       "\t& Cat… & Cat… & Cat… & Cat… & Cat… & Cat… & Cat… & \\\\\n",
       "\t\\hline\n",
       "\t1 & f & f & n & t & n & f & c & $\\dots$ \\\\\n",
       "\t2 & f & f & n & t & n & f & c & $\\dots$ \\\\\n",
       "\t3 & b & s & y & t & l & f & c & $\\dots$ \\\\\n",
       "\t4 & f & y & e & f & m & f & c & $\\dots$ \\\\\n",
       "\t5 & x & y & n & f & n & f & w & $\\dots$ \\\\\n",
       "\\end{tabular}\n"
      ],
      "text/plain": [
       "\u001b[1m5×22 DataFrame\u001b[0m\n",
       "\u001b[1m Row \u001b[0m│\u001b[1m cap-shape \u001b[0m\u001b[1m cap-surface \u001b[0m\u001b[1m cap-color \u001b[0m\u001b[1m bruises \u001b[0m\u001b[1m odor \u001b[0m\u001b[1m gill-attachment \u001b[0m\u001b[1m gill\u001b[0m ⋯\n",
       "     │\u001b[90m Cat…      \u001b[0m\u001b[90m Cat…        \u001b[0m\u001b[90m Cat…      \u001b[0m\u001b[90m Cat…    \u001b[0m\u001b[90m Cat… \u001b[0m\u001b[90m Cat…            \u001b[0m\u001b[90m Cat…\u001b[0m ⋯\n",
       "─────┼──────────────────────────────────────────────────────────────────────────\n",
       "   1 │ f          f            n          t        n     f                c    ⋯\n",
       "   2 │ f          f            n          t        n     f                c\n",
       "   3 │ b          s            y          t        l     f                c\n",
       "   4 │ f          y            e          f        m     f                c\n",
       "   5 │ x          y            n          f        n     f                w    ⋯\n",
       "\u001b[36m                                                              16 columns omitted\u001b[0m"
      ]
     },
     "metadata": {},
     "output_type": "display_data"
    }
   ],
   "source": [
    "y, X = unpack(df, ==(:class); rng=123);\n",
    "first(X, 5)"
   ]
  },
  {
   "cell_type": "code",
   "execution_count": 6,
   "metadata": {},
   "outputs": [
    {
     "data": {
      "text/plain": [
       "(CategoricalArrays.CategoricalValue{String1, UInt32}[String1(\"p\"), String1(\"p\"), String1(\"e\"), String1(\"p\"), String1(\"p\"), String1(\"e\"), String1(\"p\"), String1(\"e\"), String1(\"p\"), String1(\"e\")  …  String1(\"p\"), String1(\"e\"), String1(\"e\"), String1(\"p\"), String1(\"p\"), String1(\"p\"), String1(\"e\"), String1(\"e\"), String1(\"e\"), String1(\"p\")], CategoricalArrays.CategoricalValue{String1, UInt32}[String1(\"p\"), String1(\"p\"), String1(\"e\"), String1(\"p\"), String1(\"p\"), String1(\"e\"), String1(\"p\"), String1(\"e\"), String1(\"e\"), String1(\"e\")  …  String1(\"p\"), String1(\"p\"), String1(\"e\"), String1(\"e\"), String1(\"p\"), String1(\"p\"), String1(\"p\"), String1(\"e\"), String1(\"e\"), String1(\"e\")])"
      ]
     },
     "metadata": {},
     "output_type": "display_data"
    }
   ],
   "source": [
    "train_inds, test_inds = partition(eachindex(y), 0.8, shuffle=true, stratify=y, rng=Random.Xoshiro(42))\n",
    "X_train, X_test = X[train_inds, :], X[test_inds, :]\n",
    "y_train, y_test = y[train_inds], y[test_inds]"
   ]
  },
  {
   "cell_type": "code",
   "execution_count": 10,
   "metadata": {},
   "outputs": [
    {
     "name": "stdout",
     "output_type": "stream",
     "text": [
      "import MLJDecisionTreeInterface ✔\n"
     ]
    },
    {
     "name": "stderr",
     "output_type": "stream",
     "text": [
      "┌ Info: For silent loading, specify `verbosity=0`. \n",
      "└ @ Main /Users/essam/.julia/packages/MLJModels/Lwfeb/src/loading.jl:159\n"
     ]
    },
    {
     "data": {
      "text/plain": [
       "ProbabilisticPipeline(\n",
       "  target_encoder = TargetEncoder(\n",
       "        cols = Symbol[], \n",
       "        exclude_cols = true, \n",
       "        encode_ordinal = false, \n",
       "        lambda = 0.1, \n",
       "        m = 0), \n",
       "  random_forest_classifier = RandomForestClassifier(\n",
       "        max_depth = -1, \n",
       "        min_samples_leaf = 1, \n",
       "        min_samples_split = 2, \n",
       "        min_purity_increase = 0.0, \n",
       "        n_subfeatures = -1, \n",
       "        n_trees = 100, \n",
       "        sampling_fraction = 0.7, \n",
       "        feature_importance = :impurity, \n",
       "        rng = Random._GLOBAL_RNG()), \n",
       "  cache = true)"
      ]
     },
     "metadata": {},
     "output_type": "display_data"
    }
   ],
   "source": [
    "RandomForestClassifier = @load RandomForestClassifier pkg=DecisionTree\n",
    "\n",
    "encoder = TargetEncoder(encode_ordinal = false, lambda = 0.1, m=0)\n",
    "clf = RandomForestClassifier()\n",
    "pipe = encoder |> clf"
   ]
  },
  {
   "cell_type": "code",
   "execution_count": 11,
   "metadata": {},
   "outputs": [
    {
     "name": "stderr",
     "output_type": "stream",
     "text": [
      "┌ Info: Training machine(ProbabilisticPipeline(target_encoder = TargetEncoder(cols = Symbol[], …), …), …).\n",
      "└ @ MLJBase /Users/essam/.julia/packages/MLJBase/qETMX/src/machines.jl:499\n",
      "┌ Info: Training machine(:target_encoder, …).\n",
      "└ @ MLJBase /Users/essam/.julia/packages/MLJBase/qETMX/src/machines.jl:499\n",
      "┌ Error: Problem fitting the machine machine(:target_encoder, …). \n",
      "└ @ MLJBase /Users/essam/.julia/packages/MLJBase/qETMX/src/machines.jl:694\n",
      "┌ Info: Running type checks... \n",
      "└ @ MLJBase /Users/essam/.julia/packages/MLJBase/qETMX/src/machines.jl:699\n",
      "┌ Warning: The number and/or types of data arguments do not match what the specified model\n",
      "│ supports. Suppress this type check by specifying `scitype_check_level=0`.\n",
      "│ \n",
      "│ Run `@doc MLJTransforms.TargetEncoder` to learn more about your model's requirements.\n",
      "│ \n",
      "│ Commonly, but non exclusively, supervised models are constructed using the syntax\n",
      "│ `machine(model, X, y)` or `machine(model, X, y, w)` while most other models are\n",
      "│ constructed with `machine(model, X)`.  Here `X` are features, `y` a target, and `w`\n",
      "│ sample or class weights.\n",
      "│ \n",
      "│ In general, data in `machine(model, data...)` is expected to satisfy\n",
      "│ \n",
      "│     scitype(data) <: MLJ.fit_data_scitype(model)\n",
      "│ \n",
      "│ In the present case:\n",
      "│ \n",
      "│ scitype(data) = Tuple{Table{Union{AbstractVector{Multiclass{10}}, AbstractVector{Multiclass{12}}, AbstractVector{Multiclass{2}}, AbstractVector{Multiclass{1}}, AbstractVector{Multiclass{4}}, AbstractVector{Multiclass{3}}, AbstractVector{Multiclass{5}}, AbstractVector{Multiclass{9}}, AbstractVector{Multiclass{6}}, AbstractVector{Multiclass{7}}}}}\n",
      "│ \n",
      "│ fit_data_scitype(model) = Tuple{Tuple{Table{<:AbstractVector{<:Union{Infinite, Finite}}}, AbstractVector}}\n",
      "└ @ MLJBase /Users/essam/.julia/packages/MLJBase/qETMX/src/machines.jl:237\n",
      "┌ Info: It seems an upstream node in a learning network is providing data of incompatible scitype. See above. \n",
      "└ @ MLJBase /Users/essam/.julia/packages/MLJBase/qETMX/src/machines.jl:705\n",
      "┌ Error: Problem fitting machine(:target_encoder, …)\n",
      "└ @ MLJBase /Users/essam/.julia/packages/MLJBase/qETMX/src/machines.jl:766\n",
      "┌ Error: Problem fitting the machine machine(ProbabilisticPipeline(target_encoder = TargetEncoder(cols = Symbol[], …), …), …). \n",
      "└ @ MLJBase /Users/essam/.julia/packages/MLJBase/qETMX/src/machines.jl:694\n",
      "┌ Info: Running type checks... \n",
      "└ @ MLJBase /Users/essam/.julia/packages/MLJBase/qETMX/src/machines.jl:699\n",
      "┌ Info: Type checks okay. \n",
      "└ @ MLJBase /Users/essam/.julia/packages/MLJBase/qETMX/src/machines.jl:703\n"
     ]
    },
    {
     "ename": "CompositeException",
     "evalue": "TaskFailedException\n\n    nested task error: MethodError: no method matching fit(::TargetEncoder{Float64, Int64, Vector{Symbol}}, ::Int64, ::DataFrame)\n    \n    Closest candidates are:\n      fit(::TargetEncoder, ::Int64, ::Any, !Matched::Any)\n       @ MLJTransforms ~/Documents/GitHub/MLJTransforms/src/target_encoding/interface_mlj.jl:65\n      fit(!Matched::MLJModels.DeterministicConstantRegressor, ::Int64, ::Any, !Matched::Any)\n       @ MLJModels ~/.julia/packages/MLJModels/Lwfeb/src/builtins/Constant.jl:32\n      fit(!Matched::MLJDecisionTreeInterface.RandomForestClassifier, ::Int64, ::Any, !Matched::Any, !Matched::Any, !Matched::Any)\n       @ MLJDecisionTreeInterface ~/.julia/packages/MLJDecisionTreeInterface/CXTSl/src/MLJDecisionTreeInterface.jl:127\n      ...\n    \n    Stacktrace:\n     [1] fit_only!(mach::Machine{Symbol, Any, true}, wait_on_upstream::Bool; kwargs::@Kwargs{verbosity::Int64, composite::MLJBase.ProbabilisticPipeline{@NamedTuple{target_encoder::Unsupervised, random_forest_classifier::Probabilistic}, MLJModelInterface.predict}})\n       @ MLJBase ~/.julia/packages/MLJBase/qETMX/src/machines.jl:767\n     [2] fit_only!\n       @ MLJBase ~/.julia/packages/MLJBase/qETMX/src/machines.jl:746 [inlined]\n     [3] (::MLJBase.var\"#80#82\"{@Kwargs{verbosity::Int64, composite::MLJBase.ProbabilisticPipeline{@NamedTuple{target_encoder::Unsupervised, random_forest_classifier::Probabilistic}, MLJModelInterface.predict}}, Machine{Symbol, Any, true}})()\n       @ MLJBase ~/.julia/packages/MLJBase/qETMX/src/composition/learning_networks/nodes.jl:237\n    \n    caused by: MethodError: no method matching fit(::TargetEncoder{Float64, Int64, Vector{Symbol}}, ::Int64, ::DataFrame)\n    \n    Closest candidates are:\n      fit(::TargetEncoder, ::Int64, ::Any, !Matched::Any)\n       @ MLJTransforms ~/Documents/GitHub/MLJTransforms/src/target_encoding/interface_mlj.jl:65\n      fit(!Matched::MLJModels.DeterministicConstantRegressor, ::Int64, ::Any, !Matched::Any)\n       @ MLJModels ~/.julia/packages/MLJModels/Lwfeb/src/builtins/Constant.jl:32\n      fit(!Matched::MLJDecisionTreeInterface.RandomForestClassifier, ::Int64, ::Any, !Matched::Any, !Matched::Any, !Matched::Any)\n       @ MLJDecisionTreeInterface ~/.julia/packages/MLJDecisionTreeInterface/CXTSl/src/MLJDecisionTreeInterface.jl:127\n      ...\n    \n    Stacktrace:\n     [1] fit_only!(mach::Machine{Symbol, Any, true}; rows::Nothing, verbosity::Int64, force::Bool, composite::MLJBase.ProbabilisticPipeline{@NamedTuple{target_encoder::Unsupervised, random_forest_classifier::Probabilistic}, MLJModelInterface.predict})\n       @ MLJBase ~/.julia/packages/MLJBase/qETMX/src/machines.jl:692\n     [2] fit_only!\n       @ ~/.julia/packages/MLJBase/qETMX/src/machines.jl:617 [inlined]\n     [3] fit_only!(mach::Machine{Symbol, Any, true}, wait_on_upstream::Bool; kwargs::@Kwargs{verbosity::Int64, composite::MLJBase.ProbabilisticPipeline{@NamedTuple{target_encoder::Unsupervised, random_forest_classifier::Probabilistic}, MLJModelInterface.predict}})\n       @ MLJBase ~/.julia/packages/MLJBase/qETMX/src/machines.jl:763\n     [4] fit_only!\n       @ MLJBase ~/.julia/packages/MLJBase/qETMX/src/machines.jl:746 [inlined]\n     [5] (::MLJBase.var\"#80#82\"{@Kwargs{verbosity::Int64, composite::MLJBase.ProbabilisticPipeline{@NamedTuple{target_encoder::Unsupervised, random_forest_classifier::Probabilistic}, MLJModelInterface.predict}}, Machine{Symbol, Any, true}})()\n       @ MLJBase ~/.julia/packages/MLJBase/qETMX/src/composition/learning_networks/nodes.jl:237",
     "output_type": "error",
     "traceback": [
      "TaskFailedException\n",
      "\n",
      "    nested task error: MethodError: no method matching fit(::TargetEncoder{Float64, Int64, Vector{Symbol}}, ::Int64, ::DataFrame)\n",
      "    \n",
      "    Closest candidates are:\n",
      "      fit(::TargetEncoder, ::Int64, ::Any, !Matched::Any)\n",
      "       @ MLJTransforms ~/Documents/GitHub/MLJTransforms/src/target_encoding/interface_mlj.jl:65\n",
      "      fit(!Matched::MLJModels.DeterministicConstantRegressor, ::Int64, ::Any, !Matched::Any)\n",
      "       @ MLJModels ~/.julia/packages/MLJModels/Lwfeb/src/builtins/Constant.jl:32\n",
      "      fit(!Matched::MLJDecisionTreeInterface.RandomForestClassifier, ::Int64, ::Any, !Matched::Any, !Matched::Any, !Matched::Any)\n",
      "       @ MLJDecisionTreeInterface ~/.julia/packages/MLJDecisionTreeInterface/CXTSl/src/MLJDecisionTreeInterface.jl:127\n",
      "      ...\n",
      "    \n",
      "    Stacktrace:\n",
      "     [1] fit_only!(mach::Machine{Symbol, Any, true}, wait_on_upstream::Bool; kwargs::@Kwargs{verbosity::Int64, composite::MLJBase.ProbabilisticPipeline{@NamedTuple{target_encoder::Unsupervised, random_forest_classifier::Probabilistic}, MLJModelInterface.predict}})\n",
      "       @ MLJBase ~/.julia/packages/MLJBase/qETMX/src/machines.jl:767\n",
      "     [2] fit_only!\n",
      "       @ MLJBase ~/.julia/packages/MLJBase/qETMX/src/machines.jl:746 [inlined]\n",
      "     [3] (::MLJBase.var\"#80#82\"{@Kwargs{verbosity::Int64, composite::MLJBase.ProbabilisticPipeline{@NamedTuple{target_encoder::Unsupervised, random_forest_classifier::Probabilistic}, MLJModelInterface.predict}}, Machine{Symbol, Any, true}})()\n",
      "       @ MLJBase ~/.julia/packages/MLJBase/qETMX/src/composition/learning_networks/nodes.jl:237\n",
      "    \n",
      "    caused by: MethodError: no method matching fit(::TargetEncoder{Float64, Int64, Vector{Symbol}}, ::Int64, ::DataFrame)\n",
      "    \n",
      "    Closest candidates are:\n",
      "      fit(::TargetEncoder, ::Int64, ::Any, !Matched::Any)\n",
      "       @ MLJTransforms ~/Documents/GitHub/MLJTransforms/src/target_encoding/interface_mlj.jl:65\n",
      "      fit(!Matched::MLJModels.DeterministicConstantRegressor, ::Int64, ::Any, !Matched::Any)\n",
      "       @ MLJModels ~/.julia/packages/MLJModels/Lwfeb/src/builtins/Constant.jl:32\n",
      "      fit(!Matched::MLJDecisionTreeInterface.RandomForestClassifier, ::Int64, ::Any, !Matched::Any, !Matched::Any, !Matched::Any)\n",
      "       @ MLJDecisionTreeInterface ~/.julia/packages/MLJDecisionTreeInterface/CXTSl/src/MLJDecisionTreeInterface.jl:127\n",
      "      ...\n",
      "    \n",
      "    Stacktrace:\n",
      "     [1] fit_only!(mach::Machine{Symbol, Any, true}; rows::Nothing, verbosity::Int64, force::Bool, composite::MLJBase.ProbabilisticPipeline{@NamedTuple{target_encoder::Unsupervised, random_forest_classifier::Probabilistic}, MLJModelInterface.predict})\n",
      "       @ MLJBase ~/.julia/packages/MLJBase/qETMX/src/machines.jl:692\n",
      "     [2] fit_only!\n",
      "       @ ~/.julia/packages/MLJBase/qETMX/src/machines.jl:617 [inlined]\n",
      "     [3] fit_only!(mach::Machine{Symbol, Any, true}, wait_on_upstream::Bool; kwargs::@Kwargs{verbosity::Int64, composite::MLJBase.ProbabilisticPipeline{@NamedTuple{target_encoder::Unsupervised, random_forest_classifier::Probabilistic}, MLJModelInterface.predict}})\n",
      "       @ MLJBase ~/.julia/packages/MLJBase/qETMX/src/machines.jl:763\n",
      "     [4] fit_only!\n",
      "       @ MLJBase ~/.julia/packages/MLJBase/qETMX/src/machines.jl:746 [inlined]\n",
      "     [5] (::MLJBase.var\"#80#82\"{@Kwargs{verbosity::Int64, composite::MLJBase.ProbabilisticPipeline{@NamedTuple{target_encoder::Unsupervised, random_forest_classifier::Probabilistic}, MLJModelInterface.predict}}, Machine{Symbol, Any, true}})()\n",
      "       @ MLJBase ~/.julia/packages/MLJBase/qETMX/src/composition/learning_networks/nodes.jl:237\n",
      "\n",
      "Stacktrace:\n",
      "  [1] sync_end(c::Channel{Any})\n",
      "    @ Base ./task.jl:448\n",
      "  [2] macro expansion\n",
      "    @ ./task.jl:480 [inlined]\n",
      "  [3] fit!(y::Node{Nothing, typeof(tuple)}, ::CPU1{Nothing}; kwargs::@Kwargs{verbosity::Int64, composite::MLJBase.ProbabilisticPipeline{@NamedTuple{target_encoder::Unsupervised, random_forest_classifier::Probabilistic}, MLJModelInterface.predict}})\n",
      "    @ MLJBase ~/.julia/packages/MLJBase/qETMX/src/composition/learning_networks/nodes.jl:235\n",
      "  [4] fit!\n",
      "    @ MLJBase ~/.julia/packages/MLJBase/qETMX/src/composition/learning_networks/nodes.jl:223 [inlined]\n",
      "  [5] #fit!#76\n",
      "    @ MLJBase ~/.julia/packages/MLJBase/qETMX/src/composition/learning_networks/nodes.jl:217 [inlined]\n",
      "  [6] fit(::MLJBase.ProbabilisticPipeline{@NamedTuple{target_encoder::Unsupervised, random_forest_classifier::Probabilistic}, MLJModelInterface.predict}, ::Int64, ::DataFrame, ::CategoricalArrays.CategoricalVector{String1, UInt32, String1, CategoricalArrays.CategoricalValue{String1, UInt32}, Union{}})\n",
      "    @ MLJBase ~/.julia/packages/MLJBase/qETMX/src/composition/models/network_composite.jl:31\n",
      "  [7] fit_only!(mach::Machine{MLJBase.ProbabilisticPipeline{@NamedTuple{target_encoder::Unsupervised, random_forest_classifier::Probabilistic}, MLJModelInterface.predict}, MLJBase.ProbabilisticPipeline{@NamedTuple{target_encoder::Unsupervised, random_forest_classifier::Probabilistic}, MLJModelInterface.predict}, false}; rows::Nothing, verbosity::Int64, force::Bool, composite::Nothing)\n",
      "    @ MLJBase ~/.julia/packages/MLJBase/qETMX/src/machines.jl:692\n",
      "  [8] fit_only!\n",
      "    @ MLJBase ~/.julia/packages/MLJBase/qETMX/src/machines.jl:617 [inlined]\n",
      "  [9] #fit!#63\n",
      "    @ MLJBase ~/.julia/packages/MLJBase/qETMX/src/machines.jl:789 [inlined]\n",
      " [10] fit!(mach::Machine{MLJBase.ProbabilisticPipeline{@NamedTuple{target_encoder::Unsupervised, random_forest_classifier::Probabilistic}, MLJModelInterface.predict}, MLJBase.ProbabilisticPipeline{@NamedTuple{target_encoder::Unsupervised, random_forest_classifier::Probabilistic}, MLJModelInterface.predict}, false})\n",
      "    @ MLJBase ~/.julia/packages/MLJBase/qETMX/src/machines.jl:786\n",
      " [11] top-level scope\n",
      "    @ ~/Documents/GitHub/MLJTransforms/examples/target_encoding.ipynb:1"
     ]
    }
   ],
   "source": [
    "mach = fit!(machine(pipe, X_train, y_train))"
   ]
  },
  {
   "cell_type": "code",
   "execution_count": 9,
   "metadata": {},
   "outputs": [
    {
     "name": "stderr",
     "output_type": "stream",
     "text": [
      "┌ Info: Training machine(RandomForestClassifier(max_depth = -1, …), …).\n",
      "└ @ MLJBase /Users/essam/.julia/packages/MLJBase/qETMX/src/machines.jl:499\n",
      "\u001b[33mEvaluating over 5 folds: 100%[=========================] Time: 0:00:04\u001b[39m\u001b[K\n"
     ]
    },
    {
     "data": {
      "text/plain": [
       "PerformanceEvaluation object with these fields:\n",
       "  model, measure, operation,\n",
       "  measurement, per_fold, per_observation,\n",
       "  fitted_params_per_fold, report_per_fold,\n",
       "  train_test_rows, resampling, repeats\n",
       "Extract:\n",
       "┌────────────┬──────────────┬─────────────┐\n",
       "│\u001b[22m measure    \u001b[0m│\u001b[22m operation    \u001b[0m│\u001b[22m measurement \u001b[0m│\n",
       "├────────────┼──────────────┼─────────────┤\n",
       "│ Accuracy() │ predict_mode │ 1.0         │\n",
       "└────────────┴──────────────┴─────────────┘\n",
       "┌───────────────────────────┬─────────┐\n",
       "│\u001b[22m per_fold                  \u001b[0m│\u001b[22m 1.96*SE \u001b[0m│\n",
       "├───────────────────────────┼─────────┤\n",
       "│ [1.0, 1.0, 1.0, 1.0, 1.0] │ 0.0     │\n",
       "└───────────────────────────┴─────────┘\n"
      ]
     },
     "metadata": {},
     "output_type": "display_data"
    }
   ],
   "source": [
    "mach = machine(clf, X_train_enc, y_train)\n",
    "fit!(mach)\n",
    "cv=CV(nfolds=5)\n",
    "evaluate!(mach, resampling=cv, measure=accuracy)"
   ]
  }
 ],
 "metadata": {
  "kernelspec": {
   "display_name": "Julia 1.10.0",
   "language": "julia",
   "name": "julia-1.10"
  },
  "language_info": {
   "file_extension": ".jl",
   "mimetype": "application/julia",
   "name": "julia",
   "version": "1.10.0"
  }
 },
 "nbformat": 4,
 "nbformat_minor": 2
}
