{
 "cells": [
  {
   "cell_type": "markdown",
   "source": [
    "# Effects of Feature Standardization on Model Performance\n",
    "\n",
    "Welcome to this tutorial on feature standardization in machine learning!\n",
    "In this tutorial, we'll explore how standardizing features can significantly\n",
    "impact the performance of different machine learning models.\n",
    "\n",
    "We'll compare Logistic Regression and Support Vector Machine (SVM) models,\n",
    "both with and without feature standardization. This will help us understand\n",
    "when and why preprocessing is important for model performance."
   ],
   "metadata": {}
  },
  {
   "cell_type": "markdown",
   "source": [
    "## Setup\n",
    "\n",
    "First, let's make sure we're using a compatible Julia version. This code was tested with Julia 1.10.\n",
    "Let's import all the packages we'll need for this tutorial."
   ],
   "metadata": {}
  },
  {
   "outputs": [],
   "cell_type": "code",
   "source": [
    "# Load the necessary packages\n",
    "using MLJ                   # Core MLJ framework\n",
    "using LIBSVM                # For Support Vector Machine\n",
    "using DataFrames            # For displaying results\n",
    "using RDatasets             # To load sample datasets\n",
    "using Random                # For reproducibility\n",
    "using ScientificTypes       # For proper data typing\n",
    "using Plots                 # For visualizations\n",
    "using MLJLinearModels       # For Logistic Regression"
   ],
   "metadata": {},
   "execution_count": null
  },
  {
   "cell_type": "markdown",
   "source": [
    "## Data Preparation\n",
    "\n",
    "Let's load the Pima Indians Diabetes Dataset. This is a classic dataset for\n",
    "binary classification, where we predict diabetes status based on various health metrics.\n",
    "\n",
    "The interesting thing about this dataset is that different features have very different scales.\n",
    "We'll artificially exaggerate this by adding a large constant to the glucose values."
   ],
   "metadata": {}
  },
  {
   "outputs": [],
   "cell_type": "code",
   "source": [
    "# Load the dataset and modify it to have extreme scale differences\n",
    "df = RDatasets.dataset(\"MASS\", \"Pima.tr\")\n",
    "df.Glu .+= 10000.0;  # Artificially increase the scale of glucose values"
   ],
   "metadata": {},
   "execution_count": null
  },
  {
   "cell_type": "markdown",
   "source": [
    "Let's examine the first few rows of our dataset:"
   ],
   "metadata": {}
  },
  {
   "outputs": [],
   "cell_type": "code",
   "source": [
    "first(df, 5)"
   ],
   "metadata": {},
   "execution_count": null
  },
  {
   "cell_type": "markdown",
   "source": [
    "### Data Type Conversion\n",
    "\n",
    "In MLJ, it's important to ensure that our data has the correct scientific types.\n",
    "This helps the framework understand how to properly handle each column.\n",
    "\n",
    "We'll convert our columns to their appropriate types:\n",
    "- `Count` for discrete count data\n",
    "- `Continuous` for continuous numerical data\n",
    "- `Multiclass` for our target variable"
   ],
   "metadata": {}
  },
  {
   "outputs": [],
   "cell_type": "code",
   "source": [
    "# Coerce columns to the right scientific types\n",
    "df = coerce(df,\n",
    "    :NPreg => Count,      # Number of pregnancies is a count\n",
    "    :Glu => Continuous,   # Glucose level is continuous\n",
    "    :BP => Continuous,    # Blood pressure is continuous\n",
    "    :Skin => Continuous,  # Skin thickness is continuous\n",
    "    :BMI => Continuous,   # Body mass index is continuous\n",
    "    :Ped => Continuous,   # Diabetes pedigree is continuous\n",
    "    :Age => Continuous,   # Age is continuous\n",
    "    :Type => Multiclass,  # Diabetes status is our target (Yes/No)\n",
    ");"
   ],
   "metadata": {},
   "execution_count": null
  },
  {
   "cell_type": "markdown",
   "source": [
    "Let's verify that our schema looks correct:"
   ],
   "metadata": {}
  },
  {
   "outputs": [],
   "cell_type": "code",
   "source": [
    "ScientificTypes.schema(df)"
   ],
   "metadata": {},
   "execution_count": null
  },
  {
   "cell_type": "markdown",
   "source": [
    "## Feature Extraction and Data Splitting\n",
    "\n",
    "Now we'll separate our features from our target variable.\n",
    "In MLJ, this is done with the `unpack` function."
   ],
   "metadata": {}
  },
  {
   "outputs": [],
   "cell_type": "code",
   "source": [
    "# Unpack features (X) and target (y)\n",
    "y, X = unpack(df, ==(:Type); rng = 123);"
   ],
   "metadata": {},
   "execution_count": null
  },
  {
   "cell_type": "markdown",
   "source": [
    "Next, we'll split our data into training and testing sets.\n",
    "We'll use 70% for training and 30% for testing."
   ],
   "metadata": {}
  },
  {
   "outputs": [],
   "cell_type": "code",
   "source": [
    "# Split data into train and test sets\n",
    "train, test = partition(eachindex(y), 0.7, shuffle = true, rng = 123);"
   ],
   "metadata": {},
   "execution_count": null
  },
  {
   "cell_type": "markdown",
   "source": [
    "## Model Setup\n",
    "\n",
    "We'll compare two different models:\n",
    "1. Logistic Regression: A linear model good for binary classification\n",
    "2. Support Vector Machine (SVM): A powerful non-linear classifier\n",
    "\n",
    "For each model, we'll create two versions:\n",
    "- One without standardization\n",
    "- One with standardization\n",
    "\n",
    "The `Standardizer` transformer will rescale our features to have mean 0 and standard deviation 1."
   ],
   "metadata": {}
  },
  {
   "outputs": [],
   "cell_type": "code",
   "source": [
    "# Load our models from their respective packages\n",
    "logreg = @load LogisticClassifier pkg = MLJLinearModels\n",
    "svm = @load SVC pkg = LIBSVM\n",
    "stand = Standardizer()  # This is our standardization transformer\n",
    "\n",
    "# Create pipelines for each model variant\n",
    "logreg_pipe = logreg()  # Plain logistic regression\n",
    "logreg_std_pipe = Pipeline(stand, logreg())  # Logistic regression with standardization\n",
    "svm_pipe = svm()  # Plain SVM\n",
    "svm_std_pipe = Pipeline(stand, svm())  # SVM with standardization"
   ],
   "metadata": {},
   "execution_count": null
  },
  {
   "cell_type": "markdown",
   "source": [
    "## Model Evaluation\n",
    "\n",
    "Let's set up a vector of our models so we can evaluate them all using the same process.\n",
    "For each model, we'll store its name and the corresponding pipeline."
   ],
   "metadata": {}
  },
  {
   "outputs": [],
   "cell_type": "code",
   "source": [
    "# Create a list of models to evaluate\n",
    "models = [\n",
    "    (\"Logistic Regression\", logreg_pipe),\n",
    "    (\"Logistic Regression (standardized)\", logreg_std_pipe),\n",
    "    (\"SVM\", svm_pipe),\n",
    "    (\"SVM (standardized)\", svm_std_pipe),\n",
    "]"
   ],
   "metadata": {},
   "execution_count": null
  },
  {
   "cell_type": "markdown",
   "source": [
    "Now we'll loop through each model, train it, make predictions, and calculate accuracy.\n",
    "This will help us compare how standardization affects each model's performance."
   ],
   "metadata": {}
  },
  {
   "outputs": [],
   "cell_type": "code",
   "source": [
    "# Train and evaluate each model\n",
    "results = DataFrame(model = String[], accuracy = Float64[])\n",
    "for (name, model) in models\n",
    "    # Create a machine learning model\n",
    "    mach = machine(model, X, y)\n",
    "\n",
    "    # Train the model on the training data\n",
    "    MLJ.fit!(mach, rows = train)\n",
    "\n",
    "    # Make predictions on the test data\n",
    "    # Note: Logistic regression returns probabilities, so we need to get the mode\n",
    "    yhat =\n",
    "        occursin(\"Logistic Regression\", name) ?\n",
    "        MLJ.predict_mode(mach, rows = test) :  # Get most likely class for logistic regression\n",
    "        MLJ.predict(mach, rows = test)         # SVM directly predicts the class\n",
    "\n",
    "    # Calculate accuracy\n",
    "    acc = accuracy(yhat, y[test])\n",
    "\n",
    "    # Store the results\n",
    "    push!(results, (name, acc))\n",
    "end"
   ],
   "metadata": {},
   "execution_count": null
  },
  {
   "cell_type": "markdown",
   "source": [
    "## Results Visualization\n",
    "\n",
    "Finally, let's visualize our results to see the impact of standardization.\n",
    "We'll create a bar chart comparing the accuracy of each model."
   ],
   "metadata": {}
  },
  {
   "outputs": [],
   "cell_type": "code",
   "source": [
    "# Create a bar chart of model performance\n",
    "p = bar(\n",
    "    results.model,\n",
    "    results.accuracy,\n",
    "    xlabel = \"Model\",\n",
    "    ylabel = \"Accuracy\",\n",
    "    title = \"Model Accuracy Comparison\",\n",
    "    legend = false,\n",
    "    bar_width = 0.6,\n",
    "    ylims = (0.5, 0.7),\n",
    "    xrotation = 17,\n",
    ");"
   ],
   "metadata": {},
   "execution_count": null
  },
  {
   "cell_type": "markdown",
   "source": [
    "Save the plot"
   ],
   "metadata": {}
  },
  {
   "outputs": [],
   "cell_type": "code",
   "source": [
    "savefig(p, \"standardization_results.png\"); #hide"
   ],
   "metadata": {},
   "execution_count": null
  },
  {
   "cell_type": "markdown",
   "source": [
    "## Conclusion\n",
    "\n",
    "From this tutorial, we can clearly see that standardization has a dramatic impact on model performance.\n",
    "\n",
    "Looking at the results:\n",
    "\n",
    "- **Logistic Regression**: Without standardization, it achieves only ~57% accuracy. With standardization,\n",
    "  its performance jumps dramatically to ~68% accuracy – the best performance among all models.\n",
    "\n",
    "- **SVM**: The baseline SVM achieves ~62% accuracy. When standardized, it improves to ~65% accuracy,\n",
    "  which is a significant boost but not as dramatic as what we see with logistic regression.\n",
    "\n",
    "Try this approach with other datasets and models to further explore the effects of standardization!"
   ],
   "metadata": {}
  },
  {
   "cell_type": "markdown",
   "source": [
    "---\n",
    "\n",
    "*This notebook was generated using [Literate.jl](https://github.com/fredrikekre/Literate.jl).*"
   ],
   "metadata": {}
  }
 ],
 "nbformat_minor": 3,
 "metadata": {
  "language_info": {
   "file_extension": ".jl",
   "mimetype": "application/julia",
   "name": "julia",
   "version": "1.11.5"
  },
  "kernelspec": {
   "name": "julia-1.11",
   "display_name": "Julia 1.11.5",
   "language": "julia"
  }
 },
 "nbformat": 4
}
